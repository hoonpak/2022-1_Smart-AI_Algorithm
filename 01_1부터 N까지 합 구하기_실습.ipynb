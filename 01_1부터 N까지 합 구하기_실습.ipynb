{
 "cells": [
  {
   "cell_type": "code",
   "execution_count": 6,
   "id": "d5867333-c670-4863-aa13-7789a880cfde",
   "metadata": {},
   "outputs": [],
   "source": [
    "# 1부터 N까지 연속한 숫자의 합을 구하는 알고리즘\n",
    "# 입력 : N\n",
    "# 출력 : 1부터 N까지 숫자를 더한 값\n",
    "\n",
    "# 함수 정의\n",
    "def sum_n(n):\n",
    "    s = 0 # 초기화 > 최초의 s(합) 초기화\n",
    "    \n",
    "    for i in range(1, n+1): # 1부터 n까지 반복(n+1 > range에서 마지막 숫자는 포함 안됨)\n",
    "        s = s + i\n",
    "    return s"
   ]
  },
  {
   "cell_type": "code",
   "execution_count": 9,
   "id": "33da2163-1c4f-45f8-8979-5789ffafb6c3",
   "metadata": {},
   "outputs": [
    {
     "name": "stdout",
     "output_type": "stream",
     "text": [
      "55\n"
     ]
    }
   ],
   "source": [
    "print(sum_n(10))"
   ]
  },
  {
   "cell_type": "code",
   "execution_count": 10,
   "id": "33a80cc3-23e5-4325-8d6c-3cef7964dc88",
   "metadata": {},
   "outputs": [
    {
     "name": "stdout",
     "output_type": "stream",
     "text": [
      "5050\n"
     ]
    }
   ],
   "source": [
    "print(sum_n(100))"
   ]
  },
  {
   "cell_type": "code",
   "execution_count": 7,
   "id": "2c66a9ce-94b1-4dfe-bee6-422e6df6a45f",
   "metadata": {},
   "outputs": [
    {
     "data": {
      "text/plain": [
       "[0, 1, 2, 3, 4, 5, 6, 7, 8, 9]"
      ]
     },
     "execution_count": 7,
     "metadata": {},
     "output_type": "execute_result"
    }
   ],
   "source": [
    "list(range(10))"
   ]
  },
  {
   "cell_type": "code",
   "execution_count": 8,
   "id": "21243726-322f-4d09-ae8f-a293a7318a1e",
   "metadata": {},
   "outputs": [
    {
     "data": {
      "text/plain": [
       "10"
      ]
     },
     "execution_count": 8,
     "metadata": {},
     "output_type": "execute_result"
    }
   ],
   "source": [
    "len(list(range(10)))"
   ]
  },
  {
   "cell_type": "code",
   "execution_count": 11,
   "id": "3af3258e-795f-40af-9f9d-58383f3506ed",
   "metadata": {},
   "outputs": [
    {
     "name": "stdout",
     "output_type": "stream",
     "text": [
      "55\n"
     ]
    }
   ],
   "source": [
    "# n(n+1) / 2\n",
    "\n",
    "def sum_n_2(n):\n",
    "    return n*(n+1)//2 # '//' 정수 나눗셈 의미\n",
    "\n",
    "print(sum_n_2(10))"
   ]
  },
  {
   "cell_type": "code",
   "execution_count": 12,
   "id": "09d6a91f-ff46-4289-a7bd-7668b9a8c91e",
   "metadata": {},
   "outputs": [
    {
     "name": "stdout",
     "output_type": "stream",
     "text": [
      "5050\n"
     ]
    }
   ],
   "source": [
    "print(sum_n_2(100))"
   ]
  },
  {
   "cell_type": "code",
   "execution_count": null,
   "id": "957f7161-8deb-40f1-b1cc-7ad2003183e2",
   "metadata": {},
   "outputs": [],
   "source": []
  }
 ],
 "metadata": {
  "kernelspec": {
   "display_name": "Python 3",
   "language": "python",
   "name": "python3"
  },
  "language_info": {
   "codemirror_mode": {
    "name": "ipython",
    "version": 3
   },
   "file_extension": ".py",
   "mimetype": "text/x-python",
   "name": "python",
   "nbconvert_exporter": "python",
   "pygments_lexer": "ipython3",
   "version": "3.8.8"
  }
 },
 "nbformat": 4,
 "nbformat_minor": 5
}
