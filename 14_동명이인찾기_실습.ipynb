{
 "cells": [
  {
   "cell_type": "code",
   "execution_count": 2,
   "id": "6e2d3bd8-7e9f-487e-a9ff-36774c8099ae",
   "metadata": {},
   "outputs": [
    {
     "data": {
      "text/plain": [
       "777"
      ]
     },
     "execution_count": 2,
     "metadata": {},
     "output_type": "execute_result"
    }
   ],
   "source": [
    "# dict()\n",
    "\n",
    "d = {\"drwill\":777,\"son\":7, \"zzuyu\":10} #{key : value}\n",
    "d['drwill']# key 접근 하는 법"
   ]
  },
  {
   "cell_type": "code",
   "execution_count": 3,
   "id": "fc4e0087-99ba-4f53-8fc1-d6fad7cb0186",
   "metadata": {},
   "outputs": [
    {
     "data": {
      "text/plain": [
       "dict"
      ]
     },
     "execution_count": 3,
     "metadata": {},
     "output_type": "execute_result"
    }
   ],
   "source": [
    "type(d)"
   ]
  },
  {
   "cell_type": "code",
   "execution_count": 6,
   "id": "399398a9-3445-446d-90c2-68a5b3f18104",
   "metadata": {},
   "outputs": [],
   "source": [
    "#d[\"summer\"]\n",
    "#KeyError: 'summer'"
   ]
  },
  {
   "cell_type": "code",
   "execution_count": 7,
   "id": "a5db8707-1a1c-4e09-ba9e-779fed1df657",
   "metadata": {},
   "outputs": [],
   "source": [
    "d[\"summer\"] = 1 # 새로운 key 생성"
   ]
  },
  {
   "cell_type": "code",
   "execution_count": 8,
   "id": "9b4ee286-627a-4750-ba95-c07595a03e19",
   "metadata": {},
   "outputs": [
    {
     "data": {
      "text/plain": [
       "{'drwill': 777, 'son': 7, 'zzuyu': 10, 'summer': 1}"
      ]
     },
     "execution_count": 8,
     "metadata": {},
     "output_type": "execute_result"
    }
   ],
   "source": [
    "d"
   ]
  },
  {
   "cell_type": "code",
   "execution_count": 9,
   "id": "f5824ac5-5196-4f94-bb8d-066b5acc0dc3",
   "metadata": {},
   "outputs": [],
   "source": [
    "d[\"summer\"] = 2"
   ]
  },
  {
   "cell_type": "code",
   "execution_count": 10,
   "id": "4ad02fc2-4d32-4a6f-a670-03ffbfa046fe",
   "metadata": {},
   "outputs": [
    {
     "data": {
      "text/plain": [
       "{'drwill': 777, 'son': 7, 'zzuyu': 10, 'summer': 2}"
      ]
     },
     "execution_count": 10,
     "metadata": {},
     "output_type": "execute_result"
    }
   ],
   "source": [
    "d"
   ]
  },
  {
   "cell_type": "code",
   "execution_count": 12,
   "id": "008c539e-ebb6-437c-b1e1-d36ebe5dd2c3",
   "metadata": {},
   "outputs": [
    {
     "data": {
      "text/plain": [
       "{}"
      ]
     },
     "execution_count": 12,
     "metadata": {},
     "output_type": "execute_result"
    }
   ],
   "source": [
    "d = {}\n",
    "d"
   ]
  },
  {
   "cell_type": "code",
   "execution_count": 14,
   "id": "ce8e8392-6f09-4893-b2d0-20eb113ec603",
   "metadata": {},
   "outputs": [
    {
     "data": {
      "text/plain": [
       "({1, 2, 3}, set)"
      ]
     },
     "execution_count": 14,
     "metadata": {},
     "output_type": "execute_result"
    }
   ],
   "source": [
    "# 집합(set()) 과 딕셔너리(사전)(dict()) 차이\n",
    "\n",
    "s = {1,2,3}\n",
    "s , type(s)"
   ]
  },
  {
   "cell_type": "code",
   "execution_count": 15,
   "id": "607304e4-2308-4837-96a4-c66e9bc90b52",
   "metadata": {},
   "outputs": [
    {
     "data": {
      "text/plain": [
       "({1, 2, 3}, set)"
      ]
     },
     "execution_count": 15,
     "metadata": {},
     "output_type": "execute_result"
    }
   ],
   "source": [
    "s = {1,2,3,3,3} # 중복 제거\n",
    "s, type(s)"
   ]
  },
  {
   "cell_type": "code",
   "execution_count": 16,
   "id": "ebc2204a-ac51-42e7-89c5-5d3ea427c344",
   "metadata": {},
   "outputs": [
    {
     "data": {
      "text/plain": [
       "{1: 2, 3: 4}"
      ]
     },
     "execution_count": 16,
     "metadata": {},
     "output_type": "execute_result"
    }
   ],
   "source": [
    "d = {1:2, 3:4}\n",
    "d"
   ]
  },
  {
   "cell_type": "code",
   "execution_count": 22,
   "id": "027cf890-cb5b-4864-8922-5749b57ee832",
   "metadata": {},
   "outputs": [],
   "source": [
    "#d[2]\n",
    "#KeyError: 2"
   ]
  },
  {
   "cell_type": "code",
   "execution_count": 24,
   "id": "33798eff-1e31-4800-851c-fd0869dc6158",
   "metadata": {},
   "outputs": [
    {
     "data": {
      "text/plain": [
       "{}"
      ]
     },
     "execution_count": 24,
     "metadata": {},
     "output_type": "execute_result"
    }
   ],
   "source": [
    "s = {}\n",
    "s"
   ]
  },
  {
   "cell_type": "code",
   "execution_count": 26,
   "id": "6e772cf4-1acb-4760-b0fd-b6bf422d47be",
   "metadata": {},
   "outputs": [
    {
     "data": {
      "text/plain": [
       "3"
      ]
     },
     "execution_count": 26,
     "metadata": {},
     "output_type": "execute_result"
    }
   ],
   "source": [
    "# 자주 사용하는 딕셔너리 기능\n",
    "\n",
    "# len()\n",
    "d = {\"drwill\":777,\"son\":7, \"zzuyu\":10} #{key : value}\n",
    "len(d) # 딕셔너리 길이"
   ]
  },
  {
   "cell_type": "code",
   "execution_count": 27,
   "id": "a7232299-7d49-4cb4-879f-838ee3c9d470",
   "metadata": {},
   "outputs": [
    {
     "data": {
      "text/plain": [
       "777"
      ]
     },
     "execution_count": 27,
     "metadata": {},
     "output_type": "execute_result"
    }
   ],
   "source": [
    "d['drwill']"
   ]
  },
  {
   "cell_type": "code",
   "execution_count": 30,
   "id": "ee86d66b-ec0b-4f07-b960-9e28b7c7b10f",
   "metadata": {},
   "outputs": [
    {
     "data": {
      "text/plain": [
       "{'drwill': 888, 'son': 7, 'zzuyu': 10, 'drwall': 888}"
      ]
     },
     "execution_count": 30,
     "metadata": {},
     "output_type": "execute_result"
    }
   ],
   "source": [
    "d['drwall'] = 888\n",
    "d"
   ]
  },
  {
   "cell_type": "code",
   "execution_count": 31,
   "id": "dc74e99b-10ca-414b-bf3c-3ba00a57e444",
   "metadata": {},
   "outputs": [
    {
     "data": {
      "text/plain": [
       "{'drwill': 888, 'son': 7, 'zzuyu': 10, 'drwall': 888, 'drzall': 888}"
      ]
     },
     "execution_count": 31,
     "metadata": {},
     "output_type": "execute_result"
    }
   ],
   "source": [
    "d['drzall'] = 888\n",
    "d"
   ]
  },
  {
   "cell_type": "code",
   "execution_count": 32,
   "id": "545ae617-2391-4617-b734-6cb13f465a4b",
   "metadata": {},
   "outputs": [],
   "source": [
    "del d['drwall'] #key 제거"
   ]
  },
  {
   "cell_type": "code",
   "execution_count": 33,
   "id": "fcb9a4cd-bbd8-45b2-aaa8-b24e2296dc38",
   "metadata": {},
   "outputs": [
    {
     "data": {
      "text/plain": [
       "{'drwill': 888, 'son': 7, 'zzuyu': 10, 'drzall': 888}"
      ]
     },
     "execution_count": 33,
     "metadata": {},
     "output_type": "execute_result"
    }
   ],
   "source": [
    "d"
   ]
  },
  {
   "cell_type": "code",
   "execution_count": 35,
   "id": "d443d57a-29d1-4518-b824-4165eb792503",
   "metadata": {},
   "outputs": [],
   "source": [
    "d.clear()"
   ]
  },
  {
   "cell_type": "code",
   "execution_count": 36,
   "id": "13f7e946-a30c-4412-abe3-e2aa62a424ea",
   "metadata": {},
   "outputs": [
    {
     "data": {
      "text/plain": [
       "{}"
      ]
     },
     "execution_count": 36,
     "metadata": {},
     "output_type": "execute_result"
    }
   ],
   "source": [
    "d"
   ]
  },
  {
   "cell_type": "code",
   "execution_count": 37,
   "id": "4891d8b6-f814-4d5a-bf14-205efac23b71",
   "metadata": {},
   "outputs": [],
   "source": [
    "d = {\"drwill\":777,\"son\":7, \"zzuyu\":10} #{key : value}"
   ]
  },
  {
   "cell_type": "code",
   "execution_count": 38,
   "id": "d7996141-4d4a-4632-bfa4-00ce5f119cc4",
   "metadata": {},
   "outputs": [
    {
     "data": {
      "text/plain": [
       "True"
      ]
     },
     "execution_count": 38,
     "metadata": {},
     "output_type": "execute_result"
    }
   ],
   "source": [
    "\"drwill\" in d"
   ]
  },
  {
   "cell_type": "code",
   "execution_count": 39,
   "id": "b05edd75-dd17-4c2d-be50-d1f1dd43a49e",
   "metadata": {},
   "outputs": [
    {
     "data": {
      "text/plain": [
       "False"
      ]
     },
     "execution_count": 39,
     "metadata": {},
     "output_type": "execute_result"
    }
   ],
   "source": [
    "\"kazuha\" in d"
   ]
  },
  {
   "cell_type": "code",
   "execution_count": 40,
   "id": "88b4aebc-3012-4cb2-910f-ee18a843c731",
   "metadata": {},
   "outputs": [],
   "source": [
    "d[\"kazuha\"] = 778"
   ]
  },
  {
   "cell_type": "code",
   "execution_count": 41,
   "id": "0e167253-9e02-4003-9611-5583d88fd9e5",
   "metadata": {},
   "outputs": [
    {
     "data": {
      "text/plain": [
       "{'drwill': 777, 'son': 7, 'zzuyu': 10, 'kazuha': 778}"
      ]
     },
     "execution_count": 41,
     "metadata": {},
     "output_type": "execute_result"
    }
   ],
   "source": [
    "d"
   ]
  },
  {
   "cell_type": "code",
   "execution_count": 42,
   "id": "76ddcfa5-94d7-4cf8-917e-15c3ad23f35e",
   "metadata": {},
   "outputs": [],
   "source": [
    "# 딕셔너리를 이용한 동명이인 찾는 알고리즘\n",
    "\n",
    "# 두 번 이상 나온 이름 찾기\n",
    "\n",
    "# 입력: 이름이 n개 들어 있는 리스트 >> \n",
    "# 출력: n개의 이름 중 반복되는 이름의 집합"
   ]
  },
  {
   "cell_type": "code",
   "execution_count": 44,
   "id": "ced4492c-15c1-473e-9022-c015ac1b104e",
   "metadata": {
    "tags": []
   },
   "outputs": [],
   "source": [
    "def find_same_name(a):\n",
    "    # 1단계: 각 이름의 등장 횟수를 dict()로 만들어줘\n",
    "    name_dict = {}\n",
    "    for name in a: # 리스트 a에 있는 자료들을 차례로 반복\n",
    "        if name in name_dict: # 이름이 name_dict에 있으면\n",
    "            name_dict[name] += 1 # 등장 횟수를 1 증가\n",
    "        else:                   # 새 이름이면\n",
    "            name_dict[name] = 1 # 등장 횟수를 1로 저장\n",
    "            \n",
    "    # 2단계: 만들어진 dict()에서 등장 횟수가 2 이상인 것을 결과에 추가\n",
    "    result = set() # 결괏값을 저장할 빈 집합\n",
    "    for name in name_dict:\n",
    "        if name_dict[name] >= 2:\n",
    "            result.add(name)\n",
    "        return result"
   ]
  },
  {
   "cell_type": "code",
   "execution_count": 45,
   "id": "f2f12700-d60b-4f72-9dd2-3a5d322c3cc1",
   "metadata": {},
   "outputs": [
    {
     "name": "stdout",
     "output_type": "stream",
     "text": [
      "set()\n"
     ]
    }
   ],
   "source": [
    "name = ['Tom', 'Jerry', 'Drwill', 'Zzuyu', 'Kazuha']\n",
    "print(find_same_name(name))"
   ]
  },
  {
   "cell_type": "code",
   "execution_count": 46,
   "id": "d5f413b8-89f8-42b5-b542-87fdb1cf2bd9",
   "metadata": {},
   "outputs": [
    {
     "name": "stdout",
     "output_type": "stream",
     "text": [
      "{'Drwill'}\n"
     ]
    }
   ],
   "source": [
    "name = ['Drwill', 'Drwill', 'Zzuyu', 'Kazuha']\n",
    "print(find_same_name(name))"
   ]
  },
  {
   "cell_type": "code",
   "execution_count": 47,
   "id": "9a517e60-5987-483f-bf77-2789f081f0e1",
   "metadata": {},
   "outputs": [],
   "source": [
    "# 학생번호에 해당하는 학생 이름 찾기(dict()이용)\n",
    "\n",
    "# 입력 : 학생 명부 딕셔너리 s_info, 찾는 학생 find_no\n",
    "# 출력 : 해당하는 학생 이름, 해당하는 학생 번호가 없다면 물음표 \"?\""
   ]
  },
  {
   "cell_type": "code",
   "execution_count": 48,
   "id": "e2dcbf86-f5ec-443a-a700-f8cef7e5f7e3",
   "metadata": {},
   "outputs": [],
   "source": [
    "def get_name(s_info, find_no):\n",
    "    if find_no in s_info:\n",
    "        return s_info[find_no]\n",
    "    else:\n",
    "        return \"?\" # 해당하는 find_no(번호)가 없으면 물음표"
   ]
  },
  {
   "cell_type": "code",
   "execution_count": 49,
   "id": "63f12af6-17d7-42bf-b1e0-9ffb5d15171f",
   "metadata": {},
   "outputs": [],
   "source": [
    "s_info = {\n",
    "777: \"drwill\",\n",
    "7: \"son\",\n",
    "888: \"kazuha\",\n",
    "105: \"Summer\"\n",
    "}"
   ]
  },
  {
   "cell_type": "code",
   "execution_count": 50,
   "id": "6e65a6f7-6f0e-44cb-929b-3ae64169ffff",
   "metadata": {},
   "outputs": [
    {
     "data": {
      "text/plain": [
       "'kazuha'"
      ]
     },
     "execution_count": 50,
     "metadata": {},
     "output_type": "execute_result"
    }
   ],
   "source": [
    "get_name(s_info, 888)"
   ]
  },
  {
   "cell_type": "code",
   "execution_count": 51,
   "id": "9c4e5871-0d49-484c-9a9c-d057b8175ab5",
   "metadata": {},
   "outputs": [
    {
     "data": {
      "text/plain": [
       "'?'"
      ]
     },
     "execution_count": 51,
     "metadata": {},
     "output_type": "execute_result"
    }
   ],
   "source": [
    "get_name(s_info, 999)"
   ]
  },
  {
   "cell_type": "code",
   "execution_count": null,
   "id": "c330c79b-d3c9-4f8a-8be7-9efbb5a5b119",
   "metadata": {},
   "outputs": [],
   "source": []
  }
 ],
 "metadata": {
  "kernelspec": {
   "display_name": "Python 3",
   "language": "python",
   "name": "python3"
  },
  "language_info": {
   "codemirror_mode": {
    "name": "ipython",
    "version": 3
   },
   "file_extension": ".py",
   "mimetype": "text/x-python",
   "name": "python",
   "nbconvert_exporter": "python",
   "pygments_lexer": "ipython3",
   "version": "3.8.8"
  }
 },
 "nbformat": 4,
 "nbformat_minor": 5
}
