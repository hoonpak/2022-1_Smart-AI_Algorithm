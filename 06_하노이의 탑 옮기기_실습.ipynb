{
 "cells": [
  {
   "cell_type": "code",
   "execution_count": 1,
   "id": "db7c9749-23b3-4b93-9346-e2cb88cd1cbf",
   "metadata": {},
   "outputs": [],
   "source": [
    "# 하노이의 탑\n",
    "\n",
    "# 입력 : 옮기려는 원반의 개수 n\n",
    "# from_pos : 옮길 원반이 현재 있는 출발점 기둥\n",
    "# to_pos : 원반을 옮길 도착점 기둥\n",
    "# aux_pos : 옮기는 과정에서 사용할 보조 기둥\n",
    "\n",
    "# 출력 : 원반을 옮기는 순서"
   ]
  },
  {
   "cell_type": "code",
   "execution_count": 10,
   "id": "55a56e28-922a-4109-b8cd-7849bdb47d2a",
   "metadata": {},
   "outputs": [],
   "source": [
    "def hanoi(n , from_pos, to_pos, aux_pos):\n",
    "    if n == 1: # 원반 1개 >> 그냥 옮기면 됨\n",
    "        print(from_pos,'->', to_pos)\n",
    "        return\n",
    "    \n",
    "    # 원반 n-1 개 >> aux_pos로 이동(to_pos 보조기둥으로 이용)\n",
    "    hanoi(n-1, from_pos, aux_pos, to_pos)\n",
    "    # 가장 큰 원반을 목적지로 이동\n",
    "    print(from_pos,'->',to_pos)\n",
    "    # aux_pos에 있는 n-1개를 목적지로 이동(from_pos 보조기둥으로 사용)\n",
    "    hanoi(n-1, aux_pos, to_pos, from_pos)"
   ]
  },
  {
   "cell_type": "code",
   "execution_count": 11,
   "id": "d5797203-57c5-4e43-a8cc-2b26a09520f2",
   "metadata": {},
   "outputs": [
    {
     "name": "stdout",
     "output_type": "stream",
     "text": [
      "n=1\n",
      "1 -> 3\n"
     ]
    }
   ],
   "source": [
    "print(\"n=1\")\n",
    "hanoi(1,1,3,2)\n",
    "# 원반 1개, 1번 기둥에서 3번 기둥으로 이동(2번 기둥: 보조 기둥)"
   ]
  },
  {
   "cell_type": "code",
   "execution_count": 12,
   "id": "baebea88-fed2-420e-9470-689b5d9034bb",
   "metadata": {},
   "outputs": [
    {
     "name": "stdout",
     "output_type": "stream",
     "text": [
      "n=2\n",
      "1 -> 3\n",
      "1 -> 2\n",
      "2 -> 3\n"
     ]
    }
   ],
   "source": [
    "print(\"n=2\")\n",
    "hanoi(2,1,3,2)\n",
    "# 원반 2개, 1번 기둥에서 3번 기둥으로 이동(2번 기둥: 보조 기둥)"
   ]
  },
  {
   "cell_type": "code",
   "execution_count": 13,
   "id": "03d2a78b-d72f-423c-b646-b17a3c513e09",
   "metadata": {},
   "outputs": [
    {
     "name": "stdout",
     "output_type": "stream",
     "text": [
      "n=3\n",
      "1 -> 3\n",
      "1 -> 2\n",
      "1 -> 3\n",
      "3 -> 2\n",
      "2 -> 3\n",
      "2 -> 1\n",
      "1 -> 3\n"
     ]
    }
   ],
   "source": [
    "print(\"n=3\")\n",
    "hanoi(3,1,3,2)\n",
    "# 원반 3개, 1번 기둥에서 3번 기둥으로 이동(2번 기둥: 보조 기둥)"
   ]
  },
  {
   "cell_type": "code",
   "execution_count": null,
   "id": "03dee297-a6d2-4878-b6f5-ba5030ba9fe9",
   "metadata": {},
   "outputs": [],
   "source": []
  }
 ],
 "metadata": {
  "kernelspec": {
   "display_name": "Python 3",
   "language": "python",
   "name": "python3"
  },
  "language_info": {
   "codemirror_mode": {
    "name": "ipython",
    "version": 3
   },
   "file_extension": ".py",
   "mimetype": "text/x-python",
   "name": "python",
   "nbconvert_exporter": "python",
   "pygments_lexer": "ipython3",
   "version": "3.8.8"
  }
 },
 "nbformat": 4,
 "nbformat_minor": 5
}
