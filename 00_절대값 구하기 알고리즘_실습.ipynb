{
 "cells": [
  {
   "cell_type": "code",
   "execution_count": 1,
   "id": "9c8428a7-41e4-4d4c-a5e3-fbd104c04525",
   "metadata": {},
   "outputs": [
    {
     "name": "stdout",
     "output_type": "stream",
     "text": [
      "10\n",
      "10\n"
     ]
    }
   ],
   "source": [
    "import math\n",
    "# 수학 math 모듈 가져오기\n",
    "# 모듈 : 함수의 집합\n",
    "\n",
    "# 절대값 알고리즘(부호 판단)\n",
    "# 양수 >> 양수, 음수 >> 양수로 변경(-) 곱해서 출력\n",
    "\n",
    "# 입력 실수 a\n",
    "\n",
    "# 함수 정의\n",
    "\n",
    "def abs_sign(a):\n",
    "    if a >= 0 : # 조건 a가 양수\n",
    "        return a # return 1) 함수 종료 2) 함수를 호출하면, return 값 반환\n",
    "    else:\n",
    "        return -a\n",
    "    \n",
    "print(abs_sign(10))\n",
    "print(abs_sign(-10))"
   ]
  },
  {
   "cell_type": "code",
   "execution_count": 2,
   "id": "b3f76650-3584-483a-abc1-920c5e6aeafa",
   "metadata": {},
   "outputs": [
    {
     "name": "stdout",
     "output_type": "stream",
     "text": [
      "5.0\n",
      "5.0\n"
     ]
    }
   ],
   "source": [
    "def abs_squre(a):\n",
    "    b = a*a\n",
    "    return math.sqrt(b) # 수학(math) 모듈의 제곱근 함수\n",
    "\n",
    "print(abs_squre(5))\n",
    "print(abs_squre(-5))"
   ]
  },
  {
   "cell_type": "code",
   "execution_count": null,
   "id": "7f4bd9f9-d31e-4f46-ae73-fc81d336e8d5",
   "metadata": {},
   "outputs": [],
   "source": []
  }
 ],
 "metadata": {
  "kernelspec": {
   "display_name": "Python 3",
   "language": "python",
   "name": "python3"
  },
  "language_info": {
   "codemirror_mode": {
    "name": "ipython",
    "version": 3
   },
   "file_extension": ".py",
   "mimetype": "text/x-python",
   "name": "python",
   "nbconvert_exporter": "python",
   "pygments_lexer": "ipython3",
   "version": "3.8.8"
  }
 },
 "nbformat": 4,
 "nbformat_minor": 5
}
