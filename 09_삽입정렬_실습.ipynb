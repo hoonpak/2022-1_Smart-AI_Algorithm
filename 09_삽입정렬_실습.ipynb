{
 "cells": [
  {
   "cell_type": "markdown",
   "id": "ba626f72-512d-4522-a17b-7007eac5eb1a",
   "metadata": {},
   "source": [
    "### 쉽게 설명한 삽입 알고리즘"
   ]
  },
  {
   "cell_type": "code",
   "execution_count": 1,
   "id": "f0890992-0d5b-4d5f-b2fd-0296bee32ab8",
   "metadata": {},
   "outputs": [],
   "source": [
    "# 입력 : 리스트 a\n",
    "# 출력 : 정렬된 새 리스트"
   ]
  },
  {
   "cell_type": "code",
   "execution_count": 13,
   "id": "66a73fee-1f0d-46ed-9c36-c10c699afe9b",
   "metadata": {},
   "outputs": [],
   "source": [
    "# 함수 정의\n",
    "# 리스트 r(result)에서 v(value)가 들어가야 할 위치를 돌려주는 함수\n",
    "\n",
    "def find_ins_idx(r, v):\n",
    "    for i in range(0, len(r)): \n",
    "        if v < r[i]: # v 값보다 i번 위치에 있는 자료 값이 크면\n",
    "            return i # v가 그 값 바로 앞에 놓이도록 함 (정렬 순서가 유지됨)\n",
    "    return len(r)\n",
    "#적절한 위치를 못 찾았을 때는 v가 r의 모든 자료보다 크다는 의미 >> 맨 뒤에 삽입"
   ]
  },
  {
   "cell_type": "code",
   "execution_count": 14,
   "id": "a6b90efa-ca80-424b-955b-5eef53baa897",
   "metadata": {},
   "outputs": [],
   "source": [
    "def ins_sort(a):\n",
    "    result = [] # 새 리스트를 생성, 정렬된 값을 저장\n",
    "    while a: # 기존 리스트에 값이 남아 있는 동안 계속 반복\n",
    "        value = a.pop(0) # 기존 리스트에서 1개를 꺼냄\n",
    "        ins_idx = find_ins_idx(result, value)\n",
    "        result.insert(ins_idx, value)\n",
    "    return result"
   ]
  },
  {
   "cell_type": "code",
   "execution_count": 15,
   "id": "bce1099d-3339-4fb0-96d2-cc20d27d5826",
   "metadata": {},
   "outputs": [
    {
     "data": {
      "text/plain": [
       "[1, 2, 3, 4, 5]"
      ]
     },
     "execution_count": 15,
     "metadata": {},
     "output_type": "execute_result"
    }
   ],
   "source": [
    "a = [2, 4, 5, 1, 3]\n",
    "ins_sort(a)"
   ]
  },
  {
   "cell_type": "code",
   "execution_count": 16,
   "id": "e5d304d6-c88d-44b5-9a35-6d530ab4404a",
   "metadata": {},
   "outputs": [],
   "source": [
    "def ins_sort(a):\n",
    "    result = [] # 새 리스트를 생성, 정렬된 값을 저장\n",
    "    while a: # 기존 리스트에 값이 남아 있는 동안 계속 반복\n",
    "        value = a.pop(0) # 기존 리스트에서 1개를 꺼냄\n",
    "        ins_idx = find_ins_idx(result, value)\n",
    "        result.insert(ins_idx, value)\n",
    "        print(a, result)\n",
    "    return result"
   ]
  },
  {
   "cell_type": "code",
   "execution_count": 17,
   "id": "85e8fbf0-3643-4676-a982-ef71dac279c6",
   "metadata": {},
   "outputs": [
    {
     "name": "stdout",
     "output_type": "stream",
     "text": [
      "[4, 5, 1, 3] [2]\n",
      "[5, 1, 3] [2, 4]\n",
      "[1, 3] [2, 4, 5]\n",
      "[3] [1, 2, 4, 5]\n",
      "[] [1, 2, 3, 4, 5]\n"
     ]
    },
    {
     "data": {
      "text/plain": [
       "[1, 2, 3, 4, 5]"
      ]
     },
     "execution_count": 17,
     "metadata": {},
     "output_type": "execute_result"
    }
   ],
   "source": [
    "a = [2, 4, 5, 1, 3]\n",
    "ins_sort(a)"
   ]
  },
  {
   "cell_type": "code",
   "execution_count": 18,
   "id": "6b764013-ca21-41ea-aa93-6ad108e2c796",
   "metadata": {},
   "outputs": [],
   "source": [
    "b = [2, 4, 5, 1, 3]\n",
    "b.insert(3,7)"
   ]
  },
  {
   "cell_type": "code",
   "execution_count": 19,
   "id": "baaac23f-ee83-4e90-930f-769b6ad60085",
   "metadata": {},
   "outputs": [
    {
     "data": {
      "text/plain": [
       "[2, 4, 5, 7, 1, 3]"
      ]
     },
     "execution_count": 19,
     "metadata": {},
     "output_type": "execute_result"
    }
   ],
   "source": [
    "b"
   ]
  },
  {
   "cell_type": "markdown",
   "id": "a9090a14-5c01-478f-956f-551ebb73b507",
   "metadata": {},
   "source": [
    "### 일반적인 삽입 알고리즘"
   ]
  },
  {
   "cell_type": "code",
   "execution_count": 20,
   "id": "a4075f6e-b773-48bd-bc99-295f7ec44e15",
   "metadata": {},
   "outputs": [],
   "source": [
    "# 입력: 리스트 a\n",
    "# 출력: 없음(입력으로 주어진 a가 정렬됨)\n",
    "def ins_sort(a):\n",
    "    n = len(a)\n",
    "    for i in range(1, n): # 1부터 n-1까지\n",
    "        # i번 위치의 값을 key로 저장\n",
    "        key = a[i]\n",
    "        # j를 i 바로 왼쪽 위치로 저장\n",
    "        j = i - 1\n",
    "        while j >= 0 and a[j] > key: #key = a[i]\n",
    "        # 리스트의 j번 위치 있는 값과 key(=a[i])비교\n",
    "        # key가 삽입될 적절한 위치를 찾음\n",
    "            a[j+1] = a[j] # 삽입할 공간이 생기도록 값을 오른쪽으로 한 칸 이동\n",
    "            j -= 1 # j = j-1\n",
    "            a[j + 1] = key # 찾은 삽입 위치에 key를 저장"
   ]
  },
  {
   "cell_type": "code",
   "execution_count": 24,
   "id": "703e2c63-2231-415a-b516-5169b593dafb",
   "metadata": {},
   "outputs": [],
   "source": [
    "a = [2, 4, 5, 1, 3]\n",
    "ins_sort(a)"
   ]
  },
  {
   "cell_type": "code",
   "execution_count": 25,
   "id": "98b90601-4d6a-47a7-ba0d-533b95c87772",
   "metadata": {},
   "outputs": [
    {
     "name": "stdout",
     "output_type": "stream",
     "text": [
      "[1, 2, 3, 4, 5]\n"
     ]
    }
   ],
   "source": [
    "print(a)"
   ]
  },
  {
   "cell_type": "code",
   "execution_count": 26,
   "id": "8d084ee8-500c-48c9-825a-2a72a3a0ff65",
   "metadata": {},
   "outputs": [],
   "source": [
    "#내림차순 삽입 정렬\n",
    "\n",
    "# 입력: 리스트 a\n",
    "# 출력: 없음(입력으로 주어진 a가 정렬됨)\n",
    "def ins_sort(a):\n",
    "    n = len(a)\n",
    "    for i in range(1, n): # 1부터 n-1까지\n",
    "        # i번 위치의 값을 key로 저장\n",
    "        key = a[i]\n",
    "        # j를 i 바로 왼쪽 위치로 저장\n",
    "        j = i - 1\n",
    "        while j >= 0 and a[j] < key: #key = a[i]\n",
    "        # 리스트의 j번 위치 있는 값과 key(=a[i])비교\n",
    "        # key가 삽입될 적절한 위치를 찾음\n",
    "            a[j+1] = a[j] # 삽입할 공간이 생기도록 값을 오른쪽으로 한 칸 이동\n",
    "            j -= 1 # j = j-1\n",
    "            a[j + 1] = key # 찾은 삽입 위치에 key를 저장"
   ]
  },
  {
   "cell_type": "code",
   "execution_count": 27,
   "id": "bf56ef3b-f833-45cf-a421-e842a43bfa9d",
   "metadata": {},
   "outputs": [],
   "source": [
    "a = [2, 4, 5, 1, 3]\n",
    "ins_sort(a)"
   ]
  },
  {
   "cell_type": "code",
   "execution_count": 28,
   "id": "5c2e3102-918f-4cd9-bee2-075e8cc04f6d",
   "metadata": {},
   "outputs": [
    {
     "name": "stdout",
     "output_type": "stream",
     "text": [
      "[5, 4, 3, 2, 1]\n"
     ]
    }
   ],
   "source": [
    "print(a)"
   ]
  },
  {
   "cell_type": "code",
   "execution_count": null,
   "id": "8e6a4253-d2a4-4c08-9d36-a74e00d78dbb",
   "metadata": {},
   "outputs": [],
   "source": []
  }
 ],
 "metadata": {
  "kernelspec": {
   "display_name": "Python 3",
   "language": "python",
   "name": "python3"
  },
  "language_info": {
   "codemirror_mode": {
    "name": "ipython",
    "version": 3
   },
   "file_extension": ".py",
   "mimetype": "text/x-python",
   "name": "python",
   "nbconvert_exporter": "python",
   "pygments_lexer": "ipython3",
   "version": "3.8.8"
  }
 },
 "nbformat": 4,
 "nbformat_minor": 5
}
