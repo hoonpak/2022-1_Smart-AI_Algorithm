{
 "cells": [
  {
   "cell_type": "code",
   "execution_count": 1,
   "id": "f2c13e17-0a7b-4261-8cb4-0e4cd2ecfd5d",
   "metadata": {},
   "outputs": [
    {
     "data": {
      "text/plain": [
       "5"
      ]
     },
     "execution_count": 1,
     "metadata": {},
     "output_type": "execute_result"
    }
   ],
   "source": [
    "a = [1,2,3,4,5]\n",
    "len(a)"
   ]
  },
  {
   "cell_type": "code",
   "execution_count": 2,
   "id": "520b6d36-f0e4-4d84-b55a-f5f457f1a6e6",
   "metadata": {},
   "outputs": [
    {
     "data": {
      "text/plain": [
       "2"
      ]
     },
     "execution_count": 2,
     "metadata": {},
     "output_type": "execute_result"
    }
   ],
   "source": [
    "len(a)//2"
   ]
  },
  {
   "cell_type": "code",
   "execution_count": 3,
   "id": "472c20e8-eae9-4192-9d32-113e85891129",
   "metadata": {},
   "outputs": [],
   "source": [
    "mid = len(a)//2"
   ]
  },
  {
   "cell_type": "code",
   "execution_count": 4,
   "id": "ed3fd240-d56e-49b9-a924-6ebaa39c00b0",
   "metadata": {},
   "outputs": [
    {
     "data": {
      "text/plain": [
       "[1, 2]"
      ]
     },
     "execution_count": 4,
     "metadata": {},
     "output_type": "execute_result"
    }
   ],
   "source": [
    "a[:mid]"
   ]
  },
  {
   "cell_type": "code",
   "execution_count": 5,
   "id": "7ca3068b-29e9-4f95-b45b-80f1d5565f77",
   "metadata": {},
   "outputs": [
    {
     "data": {
      "text/plain": [
       "[3, 4, 5]"
      ]
     },
     "execution_count": 5,
     "metadata": {},
     "output_type": "execute_result"
    }
   ],
   "source": [
    "a[mid:]"
   ]
  },
  {
   "cell_type": "code",
   "execution_count": 6,
   "id": "e88bed9e-8562-4793-9c3a-ec314e3872ce",
   "metadata": {},
   "outputs": [],
   "source": [
    "# 쉽게 설명한 병합 정렬\n",
    "\n",
    "# 입력 : 리스트 a\n",
    "# 출력 : 정렬된 새 리스트"
   ]
  },
  {
   "cell_type": "code",
   "execution_count": 7,
   "id": "b3dbe700-64b6-464c-9e49-59ce704614cb",
   "metadata": {},
   "outputs": [],
   "source": [
    "def merge_sort(a):\n",
    "    n = len(a)\n",
    "    if n <= 1:\n",
    "        return a\n",
    "    # 정지조건: 정렬할 리스트의 자료 개수가 1개 이하이면 정렬 필요 없음\n",
    "    \n",
    "    # 그룹을 나누어 각각 병합 정렬 호출\n",
    "    mid = n // 2 # 중간을 기준으로 두 그룹으로 나눔\n",
    "    g1 = merge_sort(a[:mid]) # 재귀 호출로 첫 번째 그룹을 정렬\n",
    "    g2 = merge_sort(a[mid:]) # 재귀 호출로 두 번째 그룹을 정렬\n",
    "    \n",
    "    # 두 그룹을 하나로 병합\n",
    "    result = [] # 최종결과물 담을 빈 리스트 생성\n",
    "    while g1 and g2:\n",
    "        if g1[0] < g2[0]: # 2 그룹의 맨 앞 자료 값 비교\n",
    "        # g1의 값이 더 작으면 >> 그 값을 빼내어서 결과로 추가\n",
    "            result.append(g1.pop(0))\n",
    "        else:\n",
    "            result.append(g2.pop(0))\n",
    "\n",
    "    # 아직 남아 있는 자료들을 결과에 추가\n",
    "    # g1과 g2 중 이미 빈 것은 while을 바로 지나감\n",
    "    while g1:\n",
    "        result.append(g1.pop(0))\n",
    "    while g2:\n",
    "        result.append(g2.pop(0))\n",
    "    return result"
   ]
  },
  {
   "cell_type": "code",
   "execution_count": 9,
   "id": "3fa0bb78-3a0a-4d5b-8d27-88adb90e34ac",
   "metadata": {},
   "outputs": [
    {
     "data": {
      "text/plain": [
       "[1, 2, 3, 4, 5, 6, 7, 8, 9, 10]"
      ]
     },
     "execution_count": 9,
     "metadata": {},
     "output_type": "execute_result"
    }
   ],
   "source": [
    "a = [6, 8, 3, 9, 10, 1, 2, 4, 7, 5]\n",
    "merge_sort(a)"
   ]
  },
  {
   "cell_type": "code",
   "execution_count": 10,
   "id": "8ee77f2b-3af8-416b-9c71-4e4010010bb6",
   "metadata": {},
   "outputs": [],
   "source": [
    "# 일반적인 병합 알고리즘"
   ]
  },
  {
   "cell_type": "code",
   "execution_count": 11,
   "id": "5095e68b-8ab4-44e3-a9a4-07bdf17cd14e",
   "metadata": {},
   "outputs": [],
   "source": [
    "# 입력: 리스트 a\n",
    "# 출력: 없음(입력으로 주어진 a가 정렬됨)\n",
    "\n",
    "def merge_sort(a):\n",
    "    n = len(a)\n",
    "    if n <= 1:\n",
    "        return\n",
    "    mid = n // 2 # 중간을 기준\n",
    "    g1 = a[:mid]\n",
    "    g2 = a[mid:]\n",
    "    merge_sort(g1)\n",
    "    merge_sort(g2)\n",
    "    \n",
    "    # 2 그룹 >> 1 그룹 병합\n",
    "    i1 = 0\n",
    "    i2 = 0\n",
    "    ia = 0\n",
    "    while i1 < len(g1) and i2 < len(g2):\n",
    "        if g1[i1] < g2[i2]:\n",
    "            a[ia] = g1[i1]\n",
    "            i1 += 1 #i1 = i1 +1\n",
    "            ia += 1\n",
    "        else:\n",
    "            a[ia] = g2[i2]\n",
    "            i2 += 1\n",
    "            ia += 1\n",
    "    # 아직 남아 있는 자료들을 결과에 추가\n",
    "    while i1 < len(g1):\n",
    "        a[ia] = g1[i1]\n",
    "        i1 += 1\n",
    "        ia += 1\n",
    "    while i2 < len(g2):\n",
    "        a[ia] = g2[i2]\n",
    "        i2 += 1\n",
    "        ia += 1"
   ]
  },
  {
   "cell_type": "code",
   "execution_count": 13,
   "id": "167de243-ee61-4a70-96d6-9098c46c756c",
   "metadata": {},
   "outputs": [
    {
     "data": {
      "text/plain": [
       "10"
      ]
     },
     "execution_count": 13,
     "metadata": {},
     "output_type": "execute_result"
    }
   ],
   "source": [
    "a = [6, 8, 3, 9, 10, 1, 2, 4, 7, 5]\n",
    "len(a)"
   ]
  },
  {
   "cell_type": "code",
   "execution_count": 14,
   "id": "c8b8b81f-475e-43f3-8b02-53711bbade04",
   "metadata": {},
   "outputs": [],
   "source": [
    "merge_sort(a)"
   ]
  },
  {
   "cell_type": "code",
   "execution_count": 15,
   "id": "ec451e92-109a-4e3d-83fd-1d1213986124",
   "metadata": {},
   "outputs": [
    {
     "name": "stdout",
     "output_type": "stream",
     "text": [
      "[1, 2, 3, 4, 5, 6, 7, 8, 9, 10]\n"
     ]
    }
   ],
   "source": [
    "print(a)"
   ]
  },
  {
   "cell_type": "code",
   "execution_count": null,
   "id": "1483a38b-e5a9-4151-be94-9699ce3be880",
   "metadata": {},
   "outputs": [],
   "source": []
  }
 ],
 "metadata": {
  "kernelspec": {
   "display_name": "Python 3",
   "language": "python",
   "name": "python3"
  },
  "language_info": {
   "codemirror_mode": {
    "name": "ipython",
    "version": 3
   },
   "file_extension": ".py",
   "mimetype": "text/x-python",
   "name": "python",
   "nbconvert_exporter": "python",
   "pygments_lexer": "ipython3",
   "version": "3.8.8"
  }
 },
 "nbformat": 4,
 "nbformat_minor": 5
}
