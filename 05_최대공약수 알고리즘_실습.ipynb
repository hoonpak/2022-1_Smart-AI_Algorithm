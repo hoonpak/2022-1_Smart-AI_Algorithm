{
 "cells": [
  {
   "cell_type": "code",
   "execution_count": 1,
   "id": "7a57e7b8-c02d-42f3-a3b6-42e88609d5e4",
   "metadata": {},
   "outputs": [],
   "source": [
    "# 재귀 호출을 이용한 최대값 찾기\n",
    "# 최대 공약수 구하기\n",
    "\n",
    "# 입력 : a, b (정수) / 출력 :  a와 b의 최대공약수"
   ]
  },
  {
   "cell_type": "code",
   "execution_count": 1,
   "id": "666bbec7-d05f-4628-b3f6-ba007816cd9d",
   "metadata": {},
   "outputs": [],
   "source": [
    "def gcd(a, b): # a,b 두개의 정수 입력값으로 받음\n",
    "    i = min(a, b) # a,b 중 가장 작은 값을 i에 저장\n",
    "    # (예) a = 4, b = 6 >> i = 4\n",
    "    while True:\n",
    "        if a % i == 0 and b % i == 0:\n",
    "            return i \n",
    "        #4/4 나머지(0) and (동시만족) 6/4 나머지(2) >> 조건 만족 안 함\n",
    "        #4/3 나머지(1)\n",
    "        #4/2 나머지(0)\n",
    "        i = i - 1\n",
    "        \n",
    "    #4 >> 3 >> 2 : 최대 공약수 2"
   ]
  },
  {
   "cell_type": "code",
   "execution_count": 2,
   "id": "49123678-af37-4874-bb17-3d9e5686412f",
   "metadata": {},
   "outputs": [
    {
     "name": "stdout",
     "output_type": "stream",
     "text": [
      "2\n"
     ]
    }
   ],
   "source": [
    "print(gcd(4,6))"
   ]
  },
  {
   "cell_type": "code",
   "execution_count": 3,
   "id": "bfb46ed4-93b4-4e63-9443-23511812f146",
   "metadata": {},
   "outputs": [
    {
     "name": "stdout",
     "output_type": "stream",
     "text": [
      "12\n"
     ]
    }
   ],
   "source": [
    "print(gcd(60,24))"
   ]
  },
  {
   "cell_type": "code",
   "execution_count": 4,
   "id": "91ad8727-b5e7-4e4c-9b4d-a781b3d9bb6c",
   "metadata": {},
   "outputs": [],
   "source": [
    "# 유클리드 알고리즘"
   ]
  },
  {
   "cell_type": "code",
   "execution_count": 5,
   "id": "cd25d090-7c6e-435e-8f31-107b516e2afe",
   "metadata": {},
   "outputs": [],
   "source": [
    "# 최대 공약수\n",
    "# 입력 : a, b\n",
    "# 출력 : a와 b의 최대 공약수"
   ]
  },
  {
   "cell_type": "code",
   "execution_count": 6,
   "id": "a4fe75e3-96ed-4dd7-8e5b-239cf108538a",
   "metadata": {},
   "outputs": [],
   "source": [
    "def gcd(a,b):\n",
    "    if b == 0:\n",
    "        return a\n",
    "    return gcd(b, a%b) # 좀 더 작은 값으로 자기 자신을 호출"
   ]
  },
  {
   "cell_type": "code",
   "execution_count": 7,
   "id": "0368c325-d675-4425-9ba7-c1efc3fa102e",
   "metadata": {},
   "outputs": [
    {
     "data": {
      "text/plain": [
       "1"
      ]
     },
     "execution_count": 7,
     "metadata": {},
     "output_type": "execute_result"
    }
   ],
   "source": [
    "gcd(1,5)"
   ]
  },
  {
   "cell_type": "code",
   "execution_count": 8,
   "id": "2f5d214e-025d-4f4f-ab42-de0ea0fca503",
   "metadata": {},
   "outputs": [
    {
     "data": {
      "text/plain": [
       "3"
      ]
     },
     "execution_count": 8,
     "metadata": {},
     "output_type": "execute_result"
    }
   ],
   "source": [
    "gcd(3,0)"
   ]
  },
  {
   "cell_type": "code",
   "execution_count": 11,
   "id": "efb3afff-1d0b-4a8c-88e9-5a3bcbb51ce4",
   "metadata": {},
   "outputs": [],
   "source": [
    "def gcd(a,b):\n",
    "    print(\"gcd: \", a, b) # 함수 호출을 입력한 인자 값과 함께 화면에 표시하고자 함\n",
    "    if b == 0:\n",
    "        return a\n",
    "    return gcd(b, a%b)"
   ]
  },
  {
   "cell_type": "code",
   "execution_count": 12,
   "id": "4a055bea-272a-46c4-8139-90138a60c350",
   "metadata": {},
   "outputs": [
    {
     "name": "stdout",
     "output_type": "stream",
     "text": [
      "gcd:  60 24\n",
      "gcd:  24 12\n",
      "gcd:  12 0\n"
     ]
    },
    {
     "data": {
      "text/plain": [
       "12"
      ]
     },
     "execution_count": 12,
     "metadata": {},
     "output_type": "execute_result"
    }
   ],
   "source": [
    "gcd(60, 24)"
   ]
  },
  {
   "cell_type": "code",
   "execution_count": 13,
   "id": "4192cebc-5ae0-4036-b54b-c207f01e34d8",
   "metadata": {},
   "outputs": [],
   "source": [
    "#피보나치 수열"
   ]
  },
  {
   "cell_type": "code",
   "execution_count": 16,
   "id": "b471e4e2-8b92-449f-b94f-ad873b73c53f",
   "metadata": {},
   "outputs": [],
   "source": [
    "# n 번째 피보나치 수열 찾기\n",
    "\n",
    "# 입력 : n값(0부터 시작)\n",
    "# 출력 : n번째 피보나치 수열 값\n",
    "\n",
    "def fibo(n):\n",
    "    if n <= 1:\n",
    "        return n # n = 0 >>, n = 1 >> 1\n",
    "    return fibo(n-2)+fibo(n-1)"
   ]
  },
  {
   "cell_type": "code",
   "execution_count": 17,
   "id": "f46ec8a1-f57f-49a1-a410-6996f7bbb56c",
   "metadata": {},
   "outputs": [
    {
     "name": "stdout",
     "output_type": "stream",
     "text": [
      "13\n"
     ]
    }
   ],
   "source": [
    "print(fibo(7))"
   ]
  },
  {
   "cell_type": "code",
   "execution_count": 19,
   "id": "15c97075-7431-43e0-9779-5a71b3e66787",
   "metadata": {},
   "outputs": [
    {
     "data": {
      "text/plain": [
       "13"
      ]
     },
     "execution_count": 19,
     "metadata": {},
     "output_type": "execute_result"
    }
   ],
   "source": [
    "fibo(5)+fibo(6)"
   ]
  },
  {
   "cell_type": "code",
   "execution_count": null,
   "id": "a4904897-99ae-4b0c-b5cb-bdfb1a80c966",
   "metadata": {},
   "outputs": [],
   "source": []
  }
 ],
 "metadata": {
  "kernelspec": {
   "display_name": "Python 3",
   "language": "python",
   "name": "python3"
  },
  "language_info": {
   "codemirror_mode": {
    "name": "ipython",
    "version": 3
   },
   "file_extension": ".py",
   "mimetype": "text/x-python",
   "name": "python",
   "nbconvert_exporter": "python",
   "pygments_lexer": "ipython3",
   "version": "3.8.8"
  }
 },
 "nbformat": 4,
 "nbformat_minor": 5
}
