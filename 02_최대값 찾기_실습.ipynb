{
 "cells": [
  {
   "cell_type": "code",
   "execution_count": 2,
   "id": "a5a38e76-7288-4ed5-a9fd-89d1d9f0791f",
   "metadata": {},
   "outputs": [
    {
     "name": "stdout",
     "output_type": "stream",
     "text": [
      "8\n",
      "92\n"
     ]
    }
   ],
   "source": [
    "# 최대값 구하는 알고리즘\n",
    "\n",
    "# 최대값 구하기\n",
    "# 입력 : 숫자가 N개 들어가 있는 리스트\n",
    "# 출력 : 숫자 N 개 중 최대 값\n",
    "\n",
    "def find_max(a):\n",
    "    n = len(a) # 입력 크기 n\n",
    "    max_v = a[0] # 리스트의 첫번쨰 값을 최대값이라 전제\n",
    "    for i in range(1, n):# 1부터 n-1 까지 반복 [1,2,3,...n-1]\n",
    "        if a[i] > max_v: # 이번 값이 현재까지 기억된 최대값 보다 크면\n",
    "            max_v = a[i] # 최대값 변경\n",
    "    return max_v\n",
    "\n",
    "a = [17,92,18,33,58,7,33,42]\n",
    "print(len(a))\n",
    "print(find_max(a))"
   ]
  },
  {
   "cell_type": "code",
   "execution_count": 3,
   "id": "7db96ed3-b48b-46de-9c7b-10112ee528a2",
   "metadata": {},
   "outputs": [
    {
     "name": "stdout",
     "output_type": "stream",
     "text": [
      "1\n"
     ]
    }
   ],
   "source": [
    "# 최대값의 위치를 구하는 알고리즘\n",
    "\n",
    "# 최대값의 위치 구하기\n",
    "# 입력 : 숫자 n개 들어가 있는 리스트\n",
    "# 출력 : 숫자 n개 중에서 최대값이 있는 위치 (0 ~n-1값)\n",
    "\n",
    "def find_max_idx(a) :\n",
    "    n = len(a)\n",
    "    max_idx = 0\n",
    "    for i in range(1, n):\n",
    "        if a[i] > a[max_idx]: # 이번 값이 현재까지 기억된 최대값보다 크다면\n",
    "            max_idx = i # 최대값의 위치를 변경\n",
    "    return max_idx\n",
    "    \n",
    "print(find_max_idx(a))        "
   ]
  },
  {
   "cell_type": "code",
   "execution_count": null,
   "id": "1f33ba8d-3061-4bdd-b976-c79daa64f976",
   "metadata": {},
   "outputs": [],
   "source": []
  }
 ],
 "metadata": {
  "kernelspec": {
   "display_name": "Python 3",
   "language": "python",
   "name": "python3"
  },
  "language_info": {
   "codemirror_mode": {
    "name": "ipython",
    "version": 3
   },
   "file_extension": ".py",
   "mimetype": "text/x-python",
   "name": "python",
   "nbconvert_exporter": "python",
   "pygments_lexer": "ipython3",
   "version": "3.8.8"
  }
 },
 "nbformat": 4,
 "nbformat_minor": 5
}
