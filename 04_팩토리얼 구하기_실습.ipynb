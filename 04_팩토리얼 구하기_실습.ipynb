{
 "cells": [
  {
   "cell_type": "code",
   "execution_count": 3,
   "id": "b51559f5-07f4-43c3-af94-5b12f5f0c6ea",
   "metadata": {},
   "outputs": [],
   "source": [
    "# 연속한 숫자의 곱을 구하는 알고리즘\n",
    "# 입력 : n\n",
    "# 출력 : 1부터 n까지 연속한 숫자를 곱한 값\n",
    "\n",
    "def factorial(n):\n",
    "    f = 1 # 초기값 설정, 초기값 1설정(곱을 계산할 변수)\n",
    "    for i in range(1, n+1): # 1부터 n까지 반복(n+1번 제외)\n",
    "        f = f * i\n",
    "    return f"
   ]
  },
  {
   "cell_type": "code",
   "execution_count": 4,
   "id": "a88c102c-4832-496f-b936-b1c6a9bfb16d",
   "metadata": {},
   "outputs": [
    {
     "name": "stdout",
     "output_type": "stream",
     "text": [
      "1\n",
      "120\n",
      "3628800\n"
     ]
    }
   ],
   "source": [
    "print(factorial(1))\n",
    "print(factorial(5))\n",
    "print(factorial(10))"
   ]
  },
  {
   "cell_type": "code",
   "execution_count": 12,
   "id": "d9507d6b-768d-4a61-8bcf-9c5344d55033",
   "metadata": {},
   "outputs": [],
   "source": [
    "# 재귀 호출\n",
    "\n",
    "def hello():\n",
    "    print('hello') \n",
    "    #hello() #함수 안에서 다시 hello() 호출 \n",
    "             #=> RecursionError: maximum recursion depth exceeded while calling a Python object"
   ]
  },
  {
   "cell_type": "code",
   "execution_count": 13,
   "id": "281329d0-5958-4fc4-9e9a-b0553dea4e3d",
   "metadata": {},
   "outputs": [
    {
     "name": "stdout",
     "output_type": "stream",
     "text": [
      "hello\n"
     ]
    }
   ],
   "source": [
    "hello()"
   ]
  },
  {
   "cell_type": "code",
   "execution_count": 14,
   "id": "d999cc0e-2ea2-4a4a-a604-c051f1aa61a6",
   "metadata": {},
   "outputs": [],
   "source": [
    "def factorial_2(n):\n",
    "    if n <= 1:\n",
    "        return 1\n",
    "    return n*factorial_2(n-1)"
   ]
  },
  {
   "cell_type": "code",
   "execution_count": 15,
   "id": "54d06e72-1461-4974-bd22-762f7e36eb6f",
   "metadata": {},
   "outputs": [
    {
     "name": "stdout",
     "output_type": "stream",
     "text": [
      "1\n",
      "120\n",
      "3628800\n"
     ]
    }
   ],
   "source": [
    "print(factorial_2(1))\n",
    "print(factorial_2(5))\n",
    "print(factorial_2(10))"
   ]
  },
  {
   "cell_type": "code",
   "execution_count": 16,
   "id": "01eecc60-6829-418f-bcd0-6fa059d1d194",
   "metadata": {},
   "outputs": [],
   "source": [
    "# 연습문제 풀이\n",
    "# 재귀 호출 이용, 1부터 n까지 합 구하기\n",
    "\n",
    "def sum_n(n):\n",
    "    if n == 0:\n",
    "        return 0\n",
    "    return sum_n(n-1) + n"
   ]
  },
  {
   "cell_type": "code",
   "execution_count": 17,
   "id": "2627831d-edea-4f3d-9183-00cdd49b6747",
   "metadata": {},
   "outputs": [
    {
     "name": "stdout",
     "output_type": "stream",
     "text": [
      "55\n",
      "5050\n"
     ]
    }
   ],
   "source": [
    "print(sum_n(10))\n",
    "print(sum_n(100))"
   ]
  },
  {
   "cell_type": "code",
   "execution_count": 18,
   "id": "7cae1bea-5b59-4c7b-b79b-2dbde83145b4",
   "metadata": {},
   "outputs": [],
   "source": [
    "#duqtmq\n",
    "# 재귀 호출 이용, 최대값 구하기\n",
    "\n",
    "def find_max(a, n): # 리스트 a의 앞부분 n 개 중 최대값을 구하는 재귀함수\n",
    "    if n == 1:\n",
    "        return a[0]\n",
    "    max_n_1 = find_max(a, n-1) # n-1 개 중 최대값 구함\n",
    "    if max_n_1 > a[n-1]: # n-1 개 중 최대값과 n-1번 위치 값 비교\n",
    "        return max_n_1\n",
    "    else:\n",
    "        return a[n-1]"
   ]
  },
  {
   "cell_type": "code",
   "execution_count": 19,
   "id": "8d83810f-0fcc-42ec-b924-faa0529de9f6",
   "metadata": {},
   "outputs": [
    {
     "name": "stdout",
     "output_type": "stream",
     "text": [
      "92\n"
     ]
    }
   ],
   "source": [
    "a = [17, 92, 18, 33, 58, 7, 33, 42]\n",
    "print(find_max(a, len(a)))"
   ]
  },
  {
   "cell_type": "code",
   "execution_count": null,
   "id": "968f44e8-34cb-4480-b726-b936495a3f1a",
   "metadata": {},
   "outputs": [],
   "source": []
  }
 ],
 "metadata": {
  "kernelspec": {
   "display_name": "Python 3",
   "language": "python",
   "name": "python3"
  },
  "language_info": {
   "codemirror_mode": {
    "name": "ipython",
    "version": 3
   },
   "file_extension": ".py",
   "mimetype": "text/x-python",
   "name": "python",
   "nbconvert_exporter": "python",
   "pygments_lexer": "ipython3",
   "version": "3.8.8"
  }
 },
 "nbformat": 4,
 "nbformat_minor": 5
}
