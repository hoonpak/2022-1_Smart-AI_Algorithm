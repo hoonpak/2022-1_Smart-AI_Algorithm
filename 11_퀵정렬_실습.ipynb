{
 "cells": [
  {
   "cell_type": "markdown",
   "id": "69722b1c-0f99-41b7-aaac-e8e98f0ef593",
   "metadata": {},
   "source": [
    "### 파이썬 정렬"
   ]
  },
  {
   "cell_type": "code",
   "execution_count": 1,
   "id": "0a1d5a0d-10fd-42f0-9216-a52bfb64a54a",
   "metadata": {},
   "outputs": [
    {
     "data": {
      "text/plain": [
       "[5, 2, 3, 1, 4]"
      ]
     },
     "execution_count": 1,
     "metadata": {},
     "output_type": "execute_result"
    }
   ],
   "source": [
    "# sorted()\n",
    "\n",
    "a = [5,2,3,1,4]\n",
    "a"
   ]
  },
  {
   "cell_type": "code",
   "execution_count": 2,
   "id": "465b3543-7c5e-43e8-b0a0-733ca038a52c",
   "metadata": {},
   "outputs": [
    {
     "data": {
      "text/plain": [
       "[1, 2, 3, 4, 5]"
      ]
     },
     "execution_count": 2,
     "metadata": {},
     "output_type": "execute_result"
    }
   ],
   "source": [
    "# sorted()\n",
    "sorted(a)"
   ]
  },
  {
   "cell_type": "code",
   "execution_count": 3,
   "id": "0ca00399-4237-4abd-a23a-451b0ff2ba68",
   "metadata": {},
   "outputs": [
    {
     "data": {
      "text/plain": [
       "[5, 2, 3, 1, 4]"
      ]
     },
     "execution_count": 3,
     "metadata": {},
     "output_type": "execute_result"
    }
   ],
   "source": [
    "a"
   ]
  },
  {
   "cell_type": "code",
   "execution_count": 5,
   "id": "29cdae41-f3db-47c9-8484-262e7170f03f",
   "metadata": {},
   "outputs": [
    {
     "data": {
      "text/plain": [
       "[1, 2, 3, 4, 5]"
      ]
     },
     "execution_count": 5,
     "metadata": {},
     "output_type": "execute_result"
    }
   ],
   "source": [
    "#sort()\n",
    "a.sort()\n",
    "a"
   ]
  },
  {
   "cell_type": "code",
   "execution_count": 6,
   "id": "40f4a542-bace-4fab-a4f7-fafc71be6ad0",
   "metadata": {},
   "outputs": [],
   "source": [
    "# 쉽게 설명한 퀵 정렬\n",
    "\n",
    "# 입력 : 리스트 a\n",
    "# 출력 : 정렬된 새 리스트"
   ]
  },
  {
   "cell_type": "code",
   "execution_count": 7,
   "id": "4fd69d78-8cc5-47fb-84c1-3b0ea1a9f9cb",
   "metadata": {},
   "outputs": [],
   "source": [
    "def quick_sort(a):\n",
    "    n = len(a)\n",
    "    if n <= 1:\n",
    "        return a # 종료 조건\n",
    "    # 기준 값 정하고, 기준에 맞추어 그룹을 나누기\n",
    "    pivot = a[-1] # 리스트의 마지막 값을 기준 값으로 설정(임의)\n",
    "    g1 = [] # 기준 값보다 작은 값을 담을 리스트\n",
    "    g2 = [] # 기준 값보다 큰 값을 담을 리스트\n",
    "    for i in range(0, n - 1): # 마지막 값(a[-1])은 기준값으로 제외\n",
    "        if a[i] < pivot: # 기준값(pivot) 비교, 작으면 g1에 추가\n",
    "            g1.append(a[i])\n",
    "        else:\n",
    "            g2.append(a[i]) # 크면 g2에 추가\n",
    "    return quick_sort(g1) + [pivot] + quick_sort(g2)"
   ]
  },
  {
   "cell_type": "code",
   "execution_count": 8,
   "id": "db850a29-2916-405f-8075-9b1be096153f",
   "metadata": {},
   "outputs": [
    {
     "data": {
      "text/plain": [
       "([6, 8, 3, 9, 10, 1, 2, 4, 7, 5], 10)"
      ]
     },
     "execution_count": 8,
     "metadata": {},
     "output_type": "execute_result"
    }
   ],
   "source": [
    "a = [6, 8, 3, 9, 10, 1, 2, 4, 7, 5]\n",
    "a,len(a)"
   ]
  },
  {
   "cell_type": "code",
   "execution_count": 9,
   "id": "f8ed34b8-286b-48fd-b722-227e28e295df",
   "metadata": {},
   "outputs": [
    {
     "name": "stdout",
     "output_type": "stream",
     "text": [
      "[1, 2, 3, 4, 5, 6, 7, 8, 9, 10]\n"
     ]
    }
   ],
   "source": [
    "print(quick_sort(a))"
   ]
  },
  {
   "cell_type": "code",
   "execution_count": 10,
   "id": "f69bb0ce-dfe4-4638-9032-09e9e9582c6d",
   "metadata": {},
   "outputs": [
    {
     "data": {
      "text/plain": [
       "[1, 2, 3, 4, 5, 6]"
      ]
     },
     "execution_count": 10,
     "metadata": {},
     "output_type": "execute_result"
    }
   ],
   "source": [
    "#return quick_sort(g1) + [pivot] + quick_sort(g2)\n",
    "[1,2] + [3,4] + [5,6]"
   ]
  },
  {
   "cell_type": "code",
   "execution_count": 12,
   "id": "c9236dee-aed7-4bd0-a60f-2c2719e3eb46",
   "metadata": {},
   "outputs": [],
   "source": [
    "# 일반화된 퀵정렬"
   ]
  },
  {
   "cell_type": "code",
   "execution_count": 13,
   "id": "12fdd3f8-951e-4b36-8507-56b125079935",
   "metadata": {},
   "outputs": [],
   "source": [
    "# 입력 : 리스트 a\n",
    "# 출력 : 입력으로 주어진 a가 정렬\n",
    "# 리스트 a의 어디부터(start) 어디까지(end)가 정렬 대상인지 범위 지정\n",
    "# 이를 정렬하는 재귀 호출 함수"
   ]
  },
  {
   "cell_type": "code",
   "execution_count": 14,
   "id": "6325edd6-94d5-4b44-9329-2d072e330101",
   "metadata": {},
   "outputs": [],
   "source": [
    "def quick_sort_sub(a, start, end):\n",
    "    if end - start <= 0:\n",
    "        return\n",
    "\n",
    "    pivot = a[end] #리스트의 마지막 값을 기준값으로 설정\n",
    "    i = start\n",
    "    for j in range(start, end):\n",
    "        if a[j] <= pivot:\n",
    "            a[i], a[j] = a[j], a[i]\n",
    "            i += 1\n",
    "    a[i], a[end] = a[end], a[i]\n",
    "    \n",
    "    # 재귀 호출\n",
    "    quick_sort_sub(a, start, i - 1) # 기준 값보다 작은 그룹 >> 재귀 호출 재 정렬\n",
    "    quick_sort_sub(a, i + 1, end)   # 기준 값보다 큰 그룹 >> 재귀 호출 재 정렬\n",
    "    \n",
    "# 리스트 전체(0 ~ len(a)-1)를 대상으로 재귀 호출 함수 호출\n",
    "def quick_sort(a):\n",
    "    quick_sort_sub(a, 0, len(a) - 1)"
   ]
  },
  {
   "cell_type": "code",
   "execution_count": 16,
   "id": "38f1d67c-ab07-48ec-a4ff-cbab7f327e72",
   "metadata": {},
   "outputs": [
    {
     "data": {
      "text/plain": [
       "([6, 8, 3, 9, 10, 1, 2, 4, 7, 5], 10)"
      ]
     },
     "execution_count": 16,
     "metadata": {},
     "output_type": "execute_result"
    }
   ],
   "source": [
    "a = [6, 8, 3, 9, 10, 1, 2, 4, 7, 5]\n",
    "a,len(a)"
   ]
  },
  {
   "cell_type": "code",
   "execution_count": 17,
   "id": "c99baa8f-4ebe-4a49-b95f-ac52fd88b67e",
   "metadata": {},
   "outputs": [],
   "source": [
    "quick_sort(a)"
   ]
  },
  {
   "cell_type": "code",
   "execution_count": 18,
   "id": "80a66b03-716f-41f9-94c5-f3749fec3af2",
   "metadata": {},
   "outputs": [
    {
     "name": "stdout",
     "output_type": "stream",
     "text": [
      "[1, 2, 3, 4, 5, 6, 7, 8, 9, 10]\n"
     ]
    }
   ],
   "source": [
    "print(a)"
   ]
  },
  {
   "cell_type": "code",
   "execution_count": 19,
   "id": "22f8d77c-2ebd-4b2a-b087-ba0dbebf62dd",
   "metadata": {},
   "outputs": [],
   "source": [
    "# 거품 정렬(bubble sort)\n",
    "\n",
    "# 입력 : 리스트 a\n",
    "# 출력 : 입력으로 주어진 a가 정렬됨"
   ]
  },
  {
   "cell_type": "code",
   "execution_count": 20,
   "id": "8dac0a4d-e918-401a-936b-4f07a83760b1",
   "metadata": {},
   "outputs": [],
   "source": [
    "def bubble_sort(a):\n",
    "    n = len(a)\n",
    "    while True: # 정렬이 완료될 때까지 계속 수행\n",
    "        changed = False # 자료를 앞뒤로 바꾸었는지 여부\n",
    "        # 자료를 훑어 보면서 뒤집힌 자료가 있는지 확인하면서 있으면 바꾸고 \n",
    "        # 바꾼 것을 표시해 달라\n",
    "        for i in range(0, n - 1):\n",
    "            if a[i] > a[i + 1]: # 앞이 뒤보다 크면\n",
    "                print(a)\n",
    "                a[i], a[i + 1] = a[i + 1], a[i] # 두 자료의 위치를 맞바꿈\n",
    "                changed = True # 자료가 앞뒤로 바뀌었음을 기록\n",
    "        if changed == False: # 바뀐 적이 없다면 정렬 완성된 것으로 종료\n",
    "            return"
   ]
  },
  {
   "cell_type": "code",
   "execution_count": 22,
   "id": "0e4fcb48-fe16-43fa-93e2-1b5d49f50b69",
   "metadata": {},
   "outputs": [
    {
     "data": {
      "text/plain": [
       "[2, 4, 5, 1, 3]"
      ]
     },
     "execution_count": 22,
     "metadata": {},
     "output_type": "execute_result"
    }
   ],
   "source": [
    "a = [2,4,5,1,3]\n",
    "a"
   ]
  },
  {
   "cell_type": "code",
   "execution_count": 23,
   "id": "4749ea11-c079-4032-9a64-02cb5a603d42",
   "metadata": {},
   "outputs": [
    {
     "name": "stdout",
     "output_type": "stream",
     "text": [
      "[2, 4, 5, 1, 3]\n",
      "[2, 4, 1, 5, 3]\n",
      "[2, 4, 1, 3, 5]\n",
      "[2, 1, 4, 3, 5]\n",
      "[2, 1, 3, 4, 5]\n"
     ]
    },
    {
     "data": {
      "text/plain": [
       "[1, 2, 3, 4, 5]"
      ]
     },
     "execution_count": 23,
     "metadata": {},
     "output_type": "execute_result"
    }
   ],
   "source": [
    "bubble_sort(a)\n",
    "a"
   ]
  },
  {
   "cell_type": "code",
   "execution_count": null,
   "id": "735d75c7-9387-4c76-a3ce-ed21fe598cf6",
   "metadata": {},
   "outputs": [],
   "source": []
  }
 ],
 "metadata": {
  "kernelspec": {
   "display_name": "Python 3",
   "language": "python",
   "name": "python3"
  },
  "language_info": {
   "codemirror_mode": {
    "name": "ipython",
    "version": 3
   },
   "file_extension": ".py",
   "mimetype": "text/x-python",
   "name": "python",
   "nbconvert_exporter": "python",
   "pygments_lexer": "ipython3",
   "version": "3.8.8"
  }
 },
 "nbformat": 4,
 "nbformat_minor": 5
}
