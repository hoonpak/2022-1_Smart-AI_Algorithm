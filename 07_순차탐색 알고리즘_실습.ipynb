{
 "cells": [
  {
   "cell_type": "code",
   "execution_count": 1,
   "id": "92ee2a1f-03d7-4173-afce-ef8e41a49af3",
   "metadata": {},
   "outputs": [],
   "source": [
    "# 순차탐색 알고리즘\n",
    "\n",
    "# 리스트(LIST)에서 특정 숫자 위치 찾는 문제\n",
    "\n",
    "# 입력: 리스트 a , 찾는 값 x\n",
    "# 출력: x를 찾으면 그 값의 위치, 찾지 못하면 -1"
   ]
  },
  {
   "cell_type": "code",
   "execution_count": 11,
   "id": "7ae6c177-7205-422f-b60e-4cf43b5daede",
   "metadata": {},
   "outputs": [],
   "source": [
    "def search_list(a, x):\n",
    "    n = len(a) #입력 크기\n",
    "    for i in range(0, n): # 리스트 a 모든 값을 차례로\n",
    "        if x == a[i]: # x값과 비교해서 a[i] 같으면\n",
    "            return i  # 그 위치를 돌려줘\n",
    "    return -1         # 끝까지 비교해서 없으면 -1을 반환해줘"
   ]
  },
  {
   "cell_type": "code",
   "execution_count": 12,
   "id": "76d30363-1a24-4336-88e3-cdbb734b0f3a",
   "metadata": {},
   "outputs": [
    {
     "data": {
      "text/plain": [
       "([17, 92, 18, 33, 58, 7, 33, 42], list)"
      ]
     },
     "execution_count": 12,
     "metadata": {},
     "output_type": "execute_result"
    }
   ],
   "source": [
    "a = [17, 92, 18, 33, 58, 7, 33, 42]\n",
    "a, type(a)"
   ]
  },
  {
   "cell_type": "code",
   "execution_count": 13,
   "id": "3660065d-b509-4f38-be36-02fd63535ef0",
   "metadata": {},
   "outputs": [
    {
     "data": {
      "text/plain": [
       "(17, 42, 8)"
      ]
     },
     "execution_count": 13,
     "metadata": {},
     "output_type": "execute_result"
    }
   ],
   "source": [
    "a[0], a[-1], len(a)"
   ]
  },
  {
   "cell_type": "code",
   "execution_count": 14,
   "id": "68cd5559-fbb1-4288-89b7-f3017928db6f",
   "metadata": {},
   "outputs": [
    {
     "data": {
      "text/plain": [
       "[0, 1, 2, 3, 4, 5, 6, 7, 8, 9]"
      ]
     },
     "execution_count": 14,
     "metadata": {},
     "output_type": "execute_result"
    }
   ],
   "source": [
    "list(range(10))"
   ]
  },
  {
   "cell_type": "code",
   "execution_count": 15,
   "id": "bf14121d-32e6-48b6-87f6-7ef545b4a264",
   "metadata": {},
   "outputs": [
    {
     "data": {
      "text/plain": [
       "[17, 92, 18, 33, 58, 7, 33, 42]"
      ]
     },
     "execution_count": 15,
     "metadata": {},
     "output_type": "execute_result"
    }
   ],
   "source": [
    "a"
   ]
  },
  {
   "cell_type": "code",
   "execution_count": 16,
   "id": "b93a66ea-02dd-4781-9c78-f30228385cc5",
   "metadata": {},
   "outputs": [
    {
     "data": {
      "text/plain": [
       "2"
      ]
     },
     "execution_count": 16,
     "metadata": {},
     "output_type": "execute_result"
    }
   ],
   "source": [
    "search_list(a, 18)\n",
    "# 위치 번호는 2"
   ]
  },
  {
   "cell_type": "code",
   "execution_count": 18,
   "id": "0620f5ec-efaa-4e84-809c-0a3b30176fb0",
   "metadata": {},
   "outputs": [
    {
     "data": {
      "text/plain": [
       "3"
      ]
     },
     "execution_count": 18,
     "metadata": {},
     "output_type": "execute_result"
    }
   ],
   "source": [
    "search_list(a, 33)"
   ]
  },
  {
   "cell_type": "code",
   "execution_count": 19,
   "id": "f250467a-3746-4a73-a149-ba07d159181c",
   "metadata": {},
   "outputs": [
    {
     "data": {
      "text/plain": [
       "-1"
      ]
     },
     "execution_count": 19,
     "metadata": {},
     "output_type": "execute_result"
    }
   ],
   "source": [
    "search_list(a, 900)"
   ]
  },
  {
   "cell_type": "code",
   "execution_count": 20,
   "id": "eab4cb7e-0917-48aa-8e42-129e39e142b0",
   "metadata": {},
   "outputs": [],
   "source": [
    "# 연습문제 풀이\n",
    "\n",
    "# 리스트에서 특정 숫자 위치 전부 찾기\n",
    "# 입력 : 리스트 a, 찾는 값 x\n",
    "# 출력 : 찾는 값의 위치 번호가 담긴 리스트, 찾는 값이 없으면 []"
   ]
  },
  {
   "cell_type": "code",
   "execution_count": 1,
   "id": "480459aa-8c47-4f10-98fa-21b07a2b1320",
   "metadata": {},
   "outputs": [],
   "source": [
    "def search_list(a, x):\n",
    "    n = len(a) # 입력 크기 n\n",
    "    result = [] # 새 리스트 생성(결과값을 저장하기 위함)\n",
    "    for i in range(0, n):\n",
    "        if x == a[i]: # x값과 비교해서 같으면\n",
    "            result.append(i) # 그 위치 번호를 결과(result) 리스트에 추가\n",
    "    return result"
   ]
  },
  {
   "cell_type": "code",
   "execution_count": 4,
   "id": "4584bf68-b715-4538-b387-de453c50bd2e",
   "metadata": {},
   "outputs": [],
   "source": [
    "b = [17, 92, 18, 33, 58, 7, 33, 42]\n",
    "b.append(100)"
   ]
  },
  {
   "cell_type": "code",
   "execution_count": 7,
   "id": "a5db892c-b43f-42d4-8d3d-ea6ac73e68a6",
   "metadata": {},
   "outputs": [
    {
     "data": {
      "text/plain": [
       "[17, 92, 18, 33, 58, 7, 33, 42, 100]"
      ]
     },
     "execution_count": 7,
     "metadata": {},
     "output_type": "execute_result"
    }
   ],
   "source": [
    "b"
   ]
  },
  {
   "cell_type": "code",
   "execution_count": 5,
   "id": "02c394d6-5d20-4550-a36b-d1147a446d8a",
   "metadata": {},
   "outputs": [
    {
     "data": {
      "text/plain": [
       "[2]"
      ]
     },
     "execution_count": 5,
     "metadata": {},
     "output_type": "execute_result"
    }
   ],
   "source": [
    "a = [17, 92, 18, 33, 58, 7, 33, 42]\n",
    "search_list(a, 18)"
   ]
  },
  {
   "cell_type": "code",
   "execution_count": 6,
   "id": "feda6662-60c8-4468-89e3-4be816f7b802",
   "metadata": {},
   "outputs": [
    {
     "data": {
      "text/plain": [
       "[3, 6]"
      ]
     },
     "execution_count": 6,
     "metadata": {},
     "output_type": "execute_result"
    }
   ],
   "source": [
    "search_list(a, 33)"
   ]
  },
  {
   "cell_type": "code",
   "execution_count": 8,
   "id": "8cf225b3-8d9a-4ed0-9e47-b2194a2be6e2",
   "metadata": {},
   "outputs": [],
   "source": [
    "# 학생번호에 해당하는 학생 이름 찾기\n",
    "\n",
    "# 입력 : 학생번호 리스트 s_no, 학생 이름 리스트 s_name, 찾는 학생 번호 find_no\n",
    "# 출력 : 해당하는 학생 이름, 학생 이름이 없다면, \"?\""
   ]
  },
  {
   "cell_type": "code",
   "execution_count": 12,
   "id": "af477ead-ea1d-4f57-9aa9-8201e254398f",
   "metadata": {},
   "outputs": [],
   "source": [
    "def get_name(s_no, s_name, find_no):\n",
    "    n = len(s_no) # 입력 크기 n\n",
    "    for i in range(0,n): # 전체 리스트 n 개를 돌아요\n",
    "        if find_no == s_no[i]: # 학생번호가 찾는 학생번호와 같으면\n",
    "            return s_name[i] # 해당하는 학생 이름 결과를 반환\n",
    "    return '?'# 자료를 다 뒤져서 못 찾으면(해당하는 학생이 없으면) 물음표 반환"
   ]
  },
  {
   "cell_type": "code",
   "execution_count": 13,
   "id": "3479b05d-f0a1-417f-bc62-05282361a0d8",
   "metadata": {},
   "outputs": [],
   "source": [
    "s_no = [7, 777, 14, 67, 105]\n",
    "s_name = ['Son', 'Drwill', 'John', 'Alex','Summer']"
   ]
  },
  {
   "cell_type": "code",
   "execution_count": 14,
   "id": "e3cc7440-3ce4-4826-b3ae-adccb784e217",
   "metadata": {},
   "outputs": [
    {
     "data": {
      "text/plain": [
       "'Drwill'"
      ]
     },
     "execution_count": 14,
     "metadata": {},
     "output_type": "execute_result"
    }
   ],
   "source": [
    "get_name(s_no, s_name, 777)"
   ]
  },
  {
   "cell_type": "code",
   "execution_count": 15,
   "id": "3a09f99e-59f0-4be5-83a8-d1d922677d1e",
   "metadata": {},
   "outputs": [
    {
     "data": {
      "text/plain": [
       "'Son'"
      ]
     },
     "execution_count": 15,
     "metadata": {},
     "output_type": "execute_result"
    }
   ],
   "source": [
    "get_name(s_no, s_name, 7)"
   ]
  },
  {
   "cell_type": "code",
   "execution_count": 16,
   "id": "a0eea664-7f4c-46e2-b443-6d3cda6420b7",
   "metadata": {},
   "outputs": [
    {
     "data": {
      "text/plain": [
       "'?'"
      ]
     },
     "execution_count": 16,
     "metadata": {},
     "output_type": "execute_result"
    }
   ],
   "source": [
    "get_name(s_no, s_name, 77)"
   ]
  },
  {
   "cell_type": "code",
   "execution_count": null,
   "id": "68cf3dcd-fc4a-48d2-94cc-6975370851f1",
   "metadata": {},
   "outputs": [],
   "source": []
  }
 ],
 "metadata": {
  "kernelspec": {
   "display_name": "Python 3",
   "language": "python",
   "name": "python3"
  },
  "language_info": {
   "codemirror_mode": {
    "name": "ipython",
    "version": 3
   },
   "file_extension": ".py",
   "mimetype": "text/x-python",
   "name": "python",
   "nbconvert_exporter": "python",
   "pygments_lexer": "ipython3",
   "version": "3.8.8"
  }
 },
 "nbformat": 4,
 "nbformat_minor": 5
}
