{
 "cells": [
  {
   "cell_type": "code",
   "execution_count": 1,
   "id": "d102ee77-697c-46f2-b886-e62ef1c48fd1",
   "metadata": {},
   "outputs": [],
   "source": [
    "# 두 번 이상 나온 이름 찾기\n",
    "# 입력 : 이름이 n개 들어 있는 리스트\n",
    "# 출력 : 이름 n개 중 반복되는 이름의 집합\n",
    "\n",
    "def find_same_name(a):\n",
    "    n = len(a) # 리스트의 자료 개수를 n에 저장\n",
    "    result = set() # set() : 중복 제거, 결과를 저장한 빈 집합\n",
    "    for i in range(0, n-1): # Tom, Jerry, Mike, Tom 비교, 0부터 n-2까지 반복\n",
    "        for j in range(i+1, n): # i + 1 부터 n-1까지 비교\n",
    "            if a[i] == a[j]: # 이름이 같다면\n",
    "                result.add(a[i])\n",
    "    return result"
   ]
  },
  {
   "cell_type": "code",
   "execution_count": 9,
   "id": "b5a3051f-5f76-464c-9f6a-98b0c1c34222",
   "metadata": {},
   "outputs": [
    {
     "name": "stdout",
     "output_type": "stream",
     "text": [
      "{'Tom'}\n"
     ]
    }
   ],
   "source": [
    "a = ['Tom','Jerry', 'Mike', 'Tom']\n",
    "print(find_same_name(a))"
   ]
  },
  {
   "cell_type": "code",
   "execution_count": 4,
   "id": "54654fbb-c347-42c1-8927-7f89b1a32e77",
   "metadata": {},
   "outputs": [
    {
     "name": "stdout",
     "output_type": "stream",
     "text": [
      "{'Jerry', 'Tom'}\n"
     ]
    }
   ],
   "source": [
    "name = ['Tom','Jerry', 'Mike', 'Tom','Jerry','drwill']\n",
    "print(find_same_name(name))"
   ]
  }
 ],
 "metadata": {
  "kernelspec": {
   "display_name": "Python 3",
   "language": "python",
   "name": "python3"
  },
  "language_info": {
   "codemirror_mode": {
    "name": "ipython",
    "version": 3
   },
   "file_extension": ".py",
   "mimetype": "text/x-python",
   "name": "python",
   "nbconvert_exporter": "python",
   "pygments_lexer": "ipython3",
   "version": "3.8.8"
  }
 },
 "nbformat": 4,
 "nbformat_minor": 5
}
