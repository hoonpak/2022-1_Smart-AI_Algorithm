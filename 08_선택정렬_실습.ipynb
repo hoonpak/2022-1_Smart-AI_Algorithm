{
 "cells": [
  {
   "cell_type": "markdown",
   "id": "087e9b66-45d8-43fa-839e-6cdb7059a787",
   "metadata": {},
   "source": [
    "### 쉽게 설명한 선택 정렬 알고리즘"
   ]
  },
  {
   "cell_type": "code",
   "execution_count": 1,
   "id": "0890fc4f-dbaa-475b-ae8c-cb6bedcada94",
   "metadata": {},
   "outputs": [],
   "source": [
    "# 입력 : 리스트 a\n",
    "# 출력 : 정렬된 새 리스트"
   ]
  },
  {
   "cell_type": "code",
   "execution_count": 5,
   "id": "fce2ecaf-221b-4d08-b06f-a1c8d13459e9",
   "metadata": {},
   "outputs": [],
   "source": [
    "def find_min_idx(a):\n",
    "    n = len(a)\n",
    "    min_idx = 0\n",
    "    for i in range(1, n):\n",
    "        if a[i] < a[min_idx]: # [10 7 ...]\n",
    "            min_idx = i\n",
    "    return min_idx"
   ]
  },
  {
   "cell_type": "code",
   "execution_count": 6,
   "id": "86adb144-b52b-4704-9894-12811977ae38",
   "metadata": {},
   "outputs": [],
   "source": [
    "def sel_sort(a):\n",
    "    result = [] # 새 리스트를 만들어 정렬된 값을 저장\n",
    "    while a: # 주어진 리스트에 값이 남아있는 동안 계속 반복\n",
    "        min_idx = find_min_idx(a) # 리스트에 남아 있는 값 중 최솟값의 위치\n",
    "        value = a.pop(min_idx) # 찾은 최솟값을 빼내어 value에 저장\n",
    "        result.append(value) # value를 결과(result) 리스트 끝에 추가\n",
    "    return result"
   ]
  },
  {
   "cell_type": "code",
   "execution_count": 7,
   "id": "8e19b113-b0e8-4f67-a3d7-154393207f19",
   "metadata": {},
   "outputs": [
    {
     "data": {
      "text/plain": [
       "[1, 2, 3, 4, 5]"
      ]
     },
     "execution_count": 7,
     "metadata": {},
     "output_type": "execute_result"
    }
   ],
   "source": [
    "d = [2, 4, 5, 1, 3]\n",
    "sel_sort(d)"
   ]
  },
  {
   "cell_type": "code",
   "execution_count": 8,
   "id": "d8e0bb55-27c9-4d4f-9919-12e4fea9490c",
   "metadata": {},
   "outputs": [
    {
     "data": {
      "text/plain": [
       "9"
      ]
     },
     "execution_count": 8,
     "metadata": {},
     "output_type": "execute_result"
    }
   ],
   "source": [
    "e = [4,5,6,7,8,9]\n",
    "e.pop()"
   ]
  },
  {
   "cell_type": "code",
   "execution_count": 9,
   "id": "28178b89-ffc6-48f5-a356-f95602ae7137",
   "metadata": {},
   "outputs": [
    {
     "data": {
      "text/plain": [
       "[4, 5, 6, 7, 8]"
      ]
     },
     "execution_count": 9,
     "metadata": {},
     "output_type": "execute_result"
    }
   ],
   "source": [
    "e"
   ]
  },
  {
   "cell_type": "markdown",
   "id": "ba02fbbd-50ed-4dd9-b7b1-95287f902c3f",
   "metadata": {},
   "source": [
    "### 일반적인 선택 정렬 알고리즘"
   ]
  },
  {
   "cell_type": "code",
   "execution_count": 10,
   "id": "b4f3d463-b192-45a6-bc46-377a441a84ec",
   "metadata": {},
   "outputs": [],
   "source": [
    "# 입력: 리스트 a\n",
    "# 출력: 없음(입력으로 주어진 a 정렬됨)"
   ]
  },
  {
   "cell_type": "code",
   "execution_count": 11,
   "id": "0cc2db22-fefe-4dd2-9915-f50f3e0e2455",
   "metadata": {},
   "outputs": [],
   "source": [
    "def sel_sort(a):\n",
    "    n = len(a)\n",
    "    for i in range(0, n - 1): # 0부터 n-2까지 반복\n",
    "    # i번 위치부터 끝까지 자료 값 중 최솟값의 위치를 찾음\n",
    "        min_idx = i\n",
    "        for j in range(i + 1, n):\n",
    "            if a[ j] < a[min_idx]:\n",
    "                min_idx = j\n",
    "        # 찾은 최솟값을 i번 위치로\n",
    "        a[i], a[min_idx] = a[min_idx], a[i]\n"
   ]
  },
  {
   "cell_type": "code",
   "execution_count": 12,
   "id": "98517543-c123-42bc-a58e-9f706a8571d3",
   "metadata": {},
   "outputs": [],
   "source": [
    "a = [2, 4, 5, 1, 3]\n",
    "sel_sort(a)"
   ]
  },
  {
   "cell_type": "code",
   "execution_count": 13,
   "id": "acdb6a5e-0ed7-4b36-aebf-731b3bae05f4",
   "metadata": {},
   "outputs": [
    {
     "name": "stdout",
     "output_type": "stream",
     "text": [
      "[1, 2, 3, 4, 5]\n"
     ]
    }
   ],
   "source": [
    "print(a)"
   ]
  },
  {
   "cell_type": "code",
   "execution_count": 14,
   "id": "5ce167f9-f55f-4f77-b21d-441dd4198249",
   "metadata": {},
   "outputs": [],
   "source": [
    "# 파이썬에서 두 자료 값 서로 바꾸기\n",
    "\n",
    "x = 1\n",
    "y = 2\n",
    "\n",
    "x,y = y,x"
   ]
  },
  {
   "cell_type": "code",
   "execution_count": 15,
   "id": "c8e543fc-4f70-4c7c-b6d5-4df533c2d2c0",
   "metadata": {},
   "outputs": [
    {
     "data": {
      "text/plain": [
       "2"
      ]
     },
     "execution_count": 15,
     "metadata": {},
     "output_type": "execute_result"
    }
   ],
   "source": [
    "x"
   ]
  },
  {
   "cell_type": "code",
   "execution_count": 16,
   "id": "513d6121-7d3a-4227-99d3-d3a8d8d1d910",
   "metadata": {},
   "outputs": [],
   "source": [
    "def sel_sort(a):\n",
    "    n = len(a)\n",
    "    for i in range(0, n - 1): # 0부터 n-2까지 반복\n",
    "    # i번 위치부터 끝까지 자료 값 중 최솟값의 위치를 찾음\n",
    "        min_idx = i\n",
    "        for j in range(i + 1, n):\n",
    "            if a[ j] < a[min_idx]:\n",
    "                min_idx = j\n",
    "        # 찾은 최솟값을 i번 위치로\n",
    "        a[i], a[min_idx] = a[min_idx], a[i]\n",
    "        print(a)"
   ]
  },
  {
   "cell_type": "code",
   "execution_count": 17,
   "id": "0d129887-4fb3-4956-a762-9a898334b1bf",
   "metadata": {},
   "outputs": [
    {
     "name": "stdout",
     "output_type": "stream",
     "text": [
      "[1, 4, 5, 2, 3]\n",
      "[1, 2, 5, 4, 3]\n",
      "[1, 2, 3, 4, 5]\n",
      "[1, 2, 3, 4, 5]\n",
      "[1, 2, 3, 4, 5]\n"
     ]
    }
   ],
   "source": [
    "a = [2, 4, 5, 1, 3]\n",
    "sel_sort(a)\n",
    "print(a)"
   ]
  },
  {
   "cell_type": "code",
   "execution_count": 18,
   "id": "06bb0a9b-abba-4197-af84-46943c461719",
   "metadata": {},
   "outputs": [],
   "source": [
    "# 내림차순 선택 정렬\n",
    "\n",
    "def sel_sort(a):\n",
    "    n = len(a)\n",
    "    for i in range(0, n - 1):\n",
    "        max_idx = i # 최대값(max) 찾기\n",
    "        for j in range(i + 1, n):\n",
    "            if a[ j] > a[max_idx]: # 부등호 방향 바뀜\n",
    "                max_idx = j\n",
    "        a[i], a[max_idx] = a[max_idx], a[i]\n",
    "        print(a)"
   ]
  },
  {
   "cell_type": "code",
   "execution_count": 19,
   "id": "457e5cd2-4cf6-48b3-aa51-4b53e15a2757",
   "metadata": {},
   "outputs": [
    {
     "name": "stdout",
     "output_type": "stream",
     "text": [
      "[5, 4, 2, 1, 3]\n",
      "[5, 4, 2, 1, 3]\n",
      "[5, 4, 3, 1, 2]\n",
      "[5, 4, 3, 2, 1]\n",
      "[5, 4, 3, 2, 1]\n"
     ]
    }
   ],
   "source": [
    "a = [2, 4, 5, 1, 3]\n",
    "sel_sort(a)\n",
    "print(a)"
   ]
  },
  {
   "cell_type": "code",
   "execution_count": null,
   "id": "6414e07c-04a6-40fb-99e0-597421a50bb1",
   "metadata": {},
   "outputs": [],
   "source": []
  }
 ],
 "metadata": {
  "kernelspec": {
   "display_name": "Python 3",
   "language": "python",
   "name": "python3"
  },
  "language_info": {
   "codemirror_mode": {
    "name": "ipython",
    "version": 3
   },
   "file_extension": ".py",
   "mimetype": "text/x-python",
   "name": "python",
   "nbconvert_exporter": "python",
   "pygments_lexer": "ipython3",
   "version": "3.8.8"
  }
 },
 "nbformat": 4,
 "nbformat_minor": 5
}
