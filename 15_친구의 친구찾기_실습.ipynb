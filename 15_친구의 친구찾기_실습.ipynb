{
 "cells": [
  {
   "cell_type": "markdown",
   "id": "7039f8d8-6c9b-44ef-8c9e-4f7d895167c2",
   "metadata": {},
   "source": [
    "tuple()"
   ]
  },
  {
   "cell_type": "code",
   "execution_count": 2,
   "id": "7f07fb1b-4ca2-4356-bcbc-d0167bbe9b1f",
   "metadata": {},
   "outputs": [
    {
     "data": {
      "text/plain": [
       "(3, 7)"
      ]
     },
     "execution_count": 2,
     "metadata": {},
     "output_type": "execute_result"
    }
   ],
   "source": [
    "t = (3, 7)\n",
    "t"
   ]
  },
  {
   "cell_type": "code",
   "execution_count": 3,
   "id": "e8b67633-e51e-4895-9a2e-04a9f19c10e2",
   "metadata": {},
   "outputs": [
    {
     "data": {
      "text/plain": [
       "3"
      ]
     },
     "execution_count": 3,
     "metadata": {},
     "output_type": "execute_result"
    }
   ],
   "source": [
    "t[0]"
   ]
  },
  {
   "cell_type": "code",
   "execution_count": 4,
   "id": "3b242830-75e6-4cd1-bcda-e85ab066858e",
   "metadata": {},
   "outputs": [
    {
     "data": {
      "text/plain": [
       "7"
      ]
     },
     "execution_count": 4,
     "metadata": {},
     "output_type": "execute_result"
    }
   ],
   "source": [
    "t[1]"
   ]
  },
  {
   "cell_type": "code",
   "execution_count": 5,
   "id": "63f568fb-6fd8-4a99-872c-fd20f7995e96",
   "metadata": {},
   "outputs": [
    {
     "data": {
      "text/plain": [
       "(3, 7)"
      ]
     },
     "execution_count": 5,
     "metadata": {},
     "output_type": "execute_result"
    }
   ],
   "source": [
    "t"
   ]
  },
  {
   "cell_type": "code",
   "execution_count": 6,
   "id": "91a79e78-e3af-48f1-8c87-c9acc3d9763f",
   "metadata": {},
   "outputs": [],
   "source": [
    "(x,y) = t"
   ]
  },
  {
   "cell_type": "code",
   "execution_count": 7,
   "id": "ff98111e-ad40-4c68-a28c-d250c4023112",
   "metadata": {},
   "outputs": [
    {
     "data": {
      "text/plain": [
       "3"
      ]
     },
     "execution_count": 7,
     "metadata": {},
     "output_type": "execute_result"
    }
   ],
   "source": [
    "x"
   ]
  },
  {
   "cell_type": "code",
   "execution_count": 8,
   "id": "a90163f0-48f3-4603-bc20-4ca2228974b3",
   "metadata": {},
   "outputs": [
    {
     "data": {
      "text/plain": [
       "7"
      ]
     },
     "execution_count": 8,
     "metadata": {},
     "output_type": "execute_result"
    }
   ],
   "source": [
    "y"
   ]
  },
  {
   "cell_type": "code",
   "execution_count": 9,
   "id": "22898793-864c-4e4a-8cf2-4ea317595afb",
   "metadata": {},
   "outputs": [
    {
     "name": "stdout",
     "output_type": "stream",
     "text": [
      "Summer\n",
      "John\n",
      "Justin\n",
      "Mike\n",
      "May\n",
      "Kim\n",
      "\n",
      "Jerry\n",
      "Tom\n"
     ]
    }
   ],
   "source": [
    "# 친구 리스트에서 자신의 모든 친구를 찾는 알고리즘\n",
    "# 입력: 친구 관계 그래프 g, 모든 친구를 찾을 자신 start\n",
    "# 출력: 모든 친구의 이름\n",
    "\n",
    "def print_all_friends(g, start):\n",
    "    qu = [] # 기억 장소1: 앞으로 처리해야 할 사람들을 큐에 저장\n",
    "    done = set() # 기억 장소2: 이미 큐에 추가한 사람들을 집합에 기록(중복 방지)\n",
    "\n",
    "    qu.append(start) # 자신을 큐에 넣고 시작\n",
    "    done.add(start)  # 집합에도 추가\n",
    "    \n",
    "    while qu:           # 큐에 처리할 사람이 남아 있는 동안\n",
    "        p = qu.pop(0)   # 큐에서 처리 대상을 한 명 꺼내\n",
    "        print(p)        # 이름을 출력하고\n",
    "        for x in g[p]:  # 그의 친구들 중에\n",
    "            if x not in done: # 아직 큐에 추가된 적이 없는 사람을\n",
    "                qu.append(x)  # 큐에 추가하고\n",
    "                done.add(x)   # 집합에도 추가\n",
    "# 친구 관계 리스트\n",
    "# A와 B가 친구이면\n",
    "# A의 친구 리스트에도 B가 나오고, B의 친구 리스트에도 A가 나옴\n",
    "fr_info = {\n",
    "    'Summer': ['John', 'Justin', 'Mike'],\n",
    "    'John': ['Summer', 'Justin'],\n",
    "    'Justin': ['John', 'Summer', 'Mike', 'May'],\n",
    "    'Mike': ['Summer', 'Justin'],\n",
    "    'May': ['Justin', 'Kim'],\n",
    "    'Kim': ['May'],\n",
    "    'Tom': ['Jerry'],\n",
    "    'Jerry': ['Tom']\n",
    "}\n",
    "\n",
    "print_all_friends(fr_info, 'Summer')\n",
    "print()\n",
    "print_all_friends(fr_info, 'Jerry')"
   ]
  },
  {
   "cell_type": "code",
   "execution_count": 10,
   "id": "06329c89-0bff-4c86-bfe1-21f133dcc7a5",
   "metadata": {},
   "outputs": [],
   "source": [
    "# 친구 리스트에서 자신의 모든 친구를 찾고 친구들의 친밀도를 계산하는 알고리즘\n",
    "# 입력: 친구 관계 그래프 g, 모든 친구를 찾을 자신 start\n",
    "# 출력: 모든 친구의 이름과 자신과의 친밀도"
   ]
  },
  {
   "cell_type": "code",
   "execution_count": 11,
   "id": "8d127c78-ff0e-413a-95aa-60a206c9102a",
   "metadata": {},
   "outputs": [],
   "source": [
    "def all_friends(g, start):\n",
    "    qu = [] \n",
    "    # 기억 장소 1: 앞으로 처리해야 할 (사람 이름, 친밀도) 튜플을 큐에 저장\n",
    "    done = set() \n",
    "    # 기억 장소 2: 이미 큐에 추가한 사람을 집합에 기록(중복 방지)\n",
    "    qu.append((start, 0)) # ((사람 이름, 친밀도)) 하나의 튜플로 묶음\n",
    "    # start : 자기자신, 친밀도: 0\n",
    "    done.add(start)\n",
    "    \n",
    "    while qu: # 큐에 처리할 사람이 남아 있는 동안\n",
    "        (p, d) = qu.pop(0) # 큐에서 (사람 이름, 친밀도) 정보를 p와 d로 각각 꺼냄\n",
    "        print(p, d)\n",
    "        for x in g[p]:        # 친구들 중에서\n",
    "            if x not in done: # 아직 큐에 추가된 적이 없는 사람을\n",
    "                qu.append((x, d + 1)) # 친밀도(d) 1 증가시켜 큐에 추가하고\n",
    "                done.add(x)"
   ]
  },
  {
   "cell_type": "code",
   "execution_count": 12,
   "id": "5a3ec925-f739-4b8b-8896-8a2119cff359",
   "metadata": {},
   "outputs": [],
   "source": [
    "fr_info = {\n",
    "    'Summer': ['John', 'Justin', 'Mike'],\n",
    "    'John': ['Summer', 'Justin'],\n",
    "    'Justin': ['John', 'Summer', 'Mike', 'May'],\n",
    "    'Mike': ['Summer', 'Justin'],\n",
    "    'May': ['Justin', 'Kim'],\n",
    "    'Kim': ['May'],\n",
    "    'Tom': ['Jerry'],\n",
    "    'Jerry': ['Tom']\n",
    "}"
   ]
  },
  {
   "cell_type": "code",
   "execution_count": 14,
   "id": "3d375123-d9a4-4c29-9cbd-904bfce4ddb1",
   "metadata": {},
   "outputs": [
    {
     "name": "stdout",
     "output_type": "stream",
     "text": [
      "Summer 0\n",
      "John 1\n",
      "Justin 1\n",
      "Mike 1\n",
      "May 2\n",
      "Kim 3\n"
     ]
    }
   ],
   "source": [
    "all_friends(fr_info, \"Summer\")"
   ]
  },
  {
   "cell_type": "code",
   "execution_count": 15,
   "id": "2afdb970-e725-4bff-99bf-3dcb10d1a332",
   "metadata": {},
   "outputs": [
    {
     "name": "stdout",
     "output_type": "stream",
     "text": [
      "Jerry 0\n",
      "Tom 1\n"
     ]
    }
   ],
   "source": [
    "all_friends(fr_info, \"Jerry\")"
   ]
  },
  {
   "cell_type": "code",
   "execution_count": 16,
   "id": "fb42ccaa-732c-4087-b277-bd2567456410",
   "metadata": {},
   "outputs": [
    {
     "name": "stdout",
     "output_type": "stream",
     "text": [
      "1\n",
      "2\n",
      "3\n",
      "4\n",
      "5\n"
     ]
    }
   ],
   "source": [
    "# 그래프 탐색: 너비 우선 탐색\n",
    "# 입력: 그래프 g, 탐색 시작점 start\n",
    "# 출력: start에서 출발해 연결된 꼭짓점들을 출력\n",
    "\n",
    "def bfs(g, start):\n",
    "    qu = [] # 기억 장소 1: 앞으로 처리해야 할 꼭짓점을 큐에 저장\n",
    "    done = set() # 기억 장소 2: 이미 큐에 추가한 꼭짓점들을 집합에 기록(중복 방지)\n",
    "    \n",
    "    qu.append(start) # 시작점을 큐에 넣고 시작\n",
    "    done.add(start) # 집합에도 추가\n",
    "    \n",
    "    while qu:                 # 큐에 처리할 꼭짓점이 남아있으면\n",
    "        p = qu.pop(0)         # 큐에서 처리 대상을 꺼내어\n",
    "        print(p)              # 꼭짓점 이름을 출력하고\n",
    "        for x in g[p]:        # 대상 꼭짓점에 연결된 꼭짓점들 중에\n",
    "            if x not in done: # 아직 큐에 추가된 적이 없는 꼭짓점들을\n",
    "                qu.append(x)  # 큐에 추가하고\n",
    "                done.add(x)   # 집합에도 추가\n",
    "            \n",
    "# 그래프 정보\n",
    "g = {\n",
    "    1: [2, 3],\n",
    "    2: [1, 4, 5],\n",
    "    3: [1],\n",
    "    4: [2],\n",
    "    5: [2]\n",
    "}\n",
    "\n",
    "bfs(g, 1)"
   ]
  },
  {
   "cell_type": "code",
   "execution_count": null,
   "id": "ef2afe66-783a-4931-8985-dd87a36e673b",
   "metadata": {},
   "outputs": [],
   "source": []
  }
 ],
 "metadata": {
  "kernelspec": {
   "display_name": "Python 3",
   "language": "python",
   "name": "python3"
  },
  "language_info": {
   "codemirror_mode": {
    "name": "ipython",
    "version": 3
   },
   "file_extension": ".py",
   "mimetype": "text/x-python",
   "name": "python",
   "nbconvert_exporter": "python",
   "pygments_lexer": "ipython3",
   "version": "3.8.8"
  }
 },
 "nbformat": 4,
 "nbformat_minor": 5
}
