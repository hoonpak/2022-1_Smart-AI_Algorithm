{
 "cells": [
  {
   "cell_type": "code",
   "execution_count": 1,
   "id": "b2bc235d-84bb-4c76-b433-ccbdb370635c",
   "metadata": {},
   "outputs": [],
   "source": [
    "x = 'Drwill'"
   ]
  },
  {
   "cell_type": "code",
   "execution_count": 4,
   "id": "89cb986c-4b21-4e26-9b2e-9f6f06f1ddd1",
   "metadata": {},
   "outputs": [
    {
     "data": {
      "text/plain": [
       "True"
      ]
     },
     "execution_count": 4,
     "metadata": {},
     "output_type": "execute_result"
    }
   ],
   "source": [
    "# isalpha() : 알파벳 문자인지 확인 >> True / False\n",
    "x.isalpha()"
   ]
  },
  {
   "cell_type": "code",
   "execution_count": 5,
   "id": "75d38e07-0e9c-4e6c-a037-d3f299ef19c8",
   "metadata": {},
   "outputs": [
    {
     "data": {
      "text/plain": [
       "'drwill'"
      ]
     },
     "execution_count": 5,
     "metadata": {},
     "output_type": "execute_result"
    }
   ],
   "source": [
    "x.lower()"
   ]
  },
  {
   "cell_type": "code",
   "execution_count": 6,
   "id": "80e596e4-8176-4d31-a760-1868894ef1e3",
   "metadata": {},
   "outputs": [],
   "source": [
    "# 회문 찾기 알고리즘\n",
    "# 주어진 문장(s)이 회문인지 아닌지 판별(queue, stack 특징 활용)"
   ]
  },
  {
   "cell_type": "code",
   "execution_count": 7,
   "id": "4f329072-1f7b-422d-8067-84eca27ece66",
   "metadata": {},
   "outputs": [],
   "source": [
    "# 입력 : s (문자열)\n",
    "# 출력 : 회문 >> True/False"
   ]
  },
  {
   "cell_type": "code",
   "execution_count": 8,
   "id": "0cee4a07-c1e5-4a3c-bda2-ac0d05f9a169",
   "metadata": {},
   "outputs": [],
   "source": [
    "def palindrome(s):\n",
    "    qu = [] # queue 초기화\n",
    "    st = [] # stack 초기화\n",
    "    \n",
    "    # 1. 문자열의 알파벳 문자를 각각 큐와 스택에 담을 거예요\n",
    "    for x in s :\n",
    "        if x.isalpha():\n",
    "            qu.append(x.lower())\n",
    "            st.append(x.lower())\n",
    "    #2. 큐와 스택에 들어 있는 문자를 꺼내면서 비교\n",
    "    while qu: # queue 에 문자가 남아 있는 동안은 계속 반복\n",
    "        if qu.pop(0) != st.pop(): # 큐와 스택에서 꺼낸 문자가 다르다면 >> 회문 아님\n",
    "            return False\n",
    "        \n",
    "    return True  "
   ]
  },
  {
   "cell_type": "code",
   "execution_count": 9,
   "id": "650d4323-4f98-4a63-a0bc-3c8d85b88928",
   "metadata": {},
   "outputs": [
    {
     "data": {
      "text/plain": [
       "True"
      ]
     },
     "execution_count": 9,
     "metadata": {},
     "output_type": "execute_result"
    }
   ],
   "source": [
    "palindrome(\"WoW\")"
   ]
  },
  {
   "cell_type": "code",
   "execution_count": 10,
   "id": "b3e22d18-22b8-42ed-a8f2-9b75f0e7dd2c",
   "metadata": {},
   "outputs": [
    {
     "data": {
      "text/plain": [
       "True"
      ]
     },
     "execution_count": 10,
     "metadata": {},
     "output_type": "execute_result"
    }
   ],
   "source": [
    "palindrome(\"madam, I'm Adam\")"
   ]
  },
  {
   "cell_type": "code",
   "execution_count": 11,
   "id": "e2a0b00c-fecf-439f-880d-57bc2ed54cb9",
   "metadata": {},
   "outputs": [
    {
     "data": {
      "text/plain": [
       "False"
      ]
     },
     "execution_count": 11,
     "metadata": {},
     "output_type": "execute_result"
    }
   ],
   "source": [
    "palindrome(\"madam, I am Adam\")"
   ]
  },
  {
   "cell_type": "code",
   "execution_count": 12,
   "id": "157b369f-2f8e-4fd8-9641-f440a4b38748",
   "metadata": {},
   "outputs": [],
   "source": [
    "# 문자열 앞뒤를 서로 비교, 회문인지 확인\n",
    "\n",
    "# 입력 : 문자열 s\n",
    "# 출력 : 회문 > True/ False"
   ]
  },
  {
   "cell_type": "code",
   "execution_count": 15,
   "id": "de7e44d7-6cf7-4681-b589-0ecc1854cf4c",
   "metadata": {},
   "outputs": [],
   "source": [
    "def palindrom(s):\n",
    "    i = 0 # 문자열 s 의 앞에서 비교할 위치\n",
    "    j = len(s) - 1\n",
    "    \n",
    "    while i < j : # 중간까지 검사하기\n",
    "        # i 위치에 있는 문자가 알파벳 문자가 아니면 뒤로 이동\n",
    "        if s[i].isalpha() == False:\n",
    "            i += 1 # i = i + 1\n",
    "        # j 위치에 있는 문자가 알파벳 문자가 아니면 앞으로 이동\n",
    "        elif s[j].isalpha() == False:\n",
    "            j -= 1 # j = j - 1\n",
    "        # i, j 위치 둘 다 알파벳 문자가 있으면 두 문자 비교, 다르면 회문이 아님\n",
    "        elif s[i].lower() != s[j].lower():\n",
    "            return False\n",
    "        \n",
    "        else:\n",
    "            i += 1\n",
    "            j -= 1\n",
    "    return True"
   ]
  },
  {
   "cell_type": "code",
   "execution_count": 16,
   "id": "76f68616-6afe-4bb2-b4ae-74dd365ad478",
   "metadata": {},
   "outputs": [
    {
     "data": {
      "text/plain": [
       "True"
      ]
     },
     "execution_count": 16,
     "metadata": {},
     "output_type": "execute_result"
    }
   ],
   "source": [
    "palindrome(\"WoW\")"
   ]
  },
  {
   "cell_type": "code",
   "execution_count": 17,
   "id": "b4a47f80-3a92-4382-9df4-3fc8ad9edc5c",
   "metadata": {},
   "outputs": [
    {
     "data": {
      "text/plain": [
       "True"
      ]
     },
     "execution_count": 17,
     "metadata": {},
     "output_type": "execute_result"
    }
   ],
   "source": [
    "palindrome(\"madam, I'm Adam\")"
   ]
  }
 ],
 "metadata": {
  "kernelspec": {
   "display_name": "Python 3",
   "language": "python",
   "name": "python3"
  },
  "language_info": {
   "codemirror_mode": {
    "name": "ipython",
    "version": 3
   },
   "file_extension": ".py",
   "mimetype": "text/x-python",
   "name": "python",
   "nbconvert_exporter": "python",
   "pygments_lexer": "ipython3",
   "version": "3.8.8"
  }
 },
 "nbformat": 4,
 "nbformat_minor": 5
}
